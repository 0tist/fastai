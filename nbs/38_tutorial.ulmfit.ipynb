{
 "cells": [
  {
   "cell_type": "code",
   "execution_count": null,
   "metadata": {},
   "outputs": [],
   "source": [
    "from fastai2.text.all import *"
   ]
  },
  {
   "cell_type": "code",
   "execution_count": null,
   "metadata": {},
   "outputs": [],
   "source": [
    "from nbdev.showdoc import *"
   ]
  },
  {
   "cell_type": "code",
   "execution_count": null,
   "metadata": {},
   "outputs": [],
   "source": [
    "# all_slow"
   ]
  },
  {
   "cell_type": "markdown",
   "metadata": {},
   "source": [
    "# Transfer learning in text\n",
    "\n",
    "> How to fine-tune a language model and train a classifier"
   ]
  },
  {
   "cell_type": "markdown",
   "metadata": {},
   "source": [
    "## Finetune a pretrained Language Model"
   ]
  },
  {
   "cell_type": "markdown",
   "metadata": {},
   "source": [
    "First we get our data and tokenize it."
   ]
  },
  {
   "cell_type": "code",
   "execution_count": null,
   "metadata": {},
   "outputs": [],
   "source": [
    "path = untar_data(URLs.IMDB_SAMPLE)\n",
    "df = pd.read_csv(path/'texts.csv')"
   ]
  },
  {
   "cell_type": "markdown",
   "metadata": {},
   "source": [
    "Then we put it in a `DataSource`. For a language model, we don't have targets, so there is only one transform to numericalize the texts."
   ]
  },
  {
   "cell_type": "code",
   "execution_count": null,
   "metadata": {},
   "outputs": [
    {
     "data": {
      "text/html": [],
      "text/plain": [
       "<IPython.core.display.HTML object>"
      ]
     },
     "metadata": {},
     "output_type": "display_data"
    }
   ],
   "source": [
    "splits = ColSplitter()(df)\n",
    "tfms = [attrgetter(\"text\"), Tokenizer.from_df(\"text\"), Numericalize()]\n",
    "dsrc = DataSource(df, [tfms], splits=splits, dl_type=LMDataLoader)"
   ]
  },
  {
   "cell_type": "markdown",
   "metadata": {},
   "source": [
    "Then we use that `DataSource` to create a `DataBunch`. Here the class of `TfmdDL` we need to use is `LMDataLoader` which will concatenate all the texts in a source (with a shuffle at each epoch for the training set), split it in `bs` chunks then read continuously through it."
   ]
  },
  {
   "cell_type": "code",
   "execution_count": null,
   "metadata": {},
   "outputs": [],
   "source": [
    "dbunch = dsrc.databunch(bs=64, seq_len=72, after_batch=Cuda)"
   ]
  },
  {
   "cell_type": "markdown",
   "metadata": {},
   "source": [
    "Or more simply with a factory method:"
   ]
  },
  {
   "cell_type": "code",
   "execution_count": null,
   "metadata": {},
   "outputs": [
    {
     "data": {
      "text/html": [],
      "text/plain": [
       "<IPython.core.display.HTML object>"
      ]
     },
     "metadata": {},
     "output_type": "display_data"
    }
   ],
   "source": [
    "dbunch = TextDataBunch.from_df(df, text_col='text', is_lm=True, valid_col='is_valid')"
   ]
  },
  {
   "cell_type": "code",
   "execution_count": null,
   "metadata": {},
   "outputs": [
    {
     "data": {
      "text/html": [
       "<table border=\"1\" class=\"dataframe\">\n",
       "  <thead>\n",
       "    <tr style=\"text-align: right;\">\n",
       "      <th></th>\n",
       "      <th>text</th>\n",
       "      <th>text_</th>\n",
       "    </tr>\n",
       "  </thead>\n",
       "  <tbody>\n",
       "    <tr>\n",
       "      <th>0</th>\n",
       "      <td>xxbos xxmaj if you loved xxmaj long xxmaj way xxmaj round you will enjoy this nearly as much . xxmaj it is educational , funny , interesting and tense . xxmaj xxunk shares the screen with two interesting xxunk , two tired mechanics , two excellent xxunk and too much xxmaj russ . xxmaj ewan makes a few appearances but xxmaj xxunk really pulls it off alone . xxmaj he is funny</td>\n",
       "      <td>xxmaj if you loved xxmaj long xxmaj way xxmaj round you will enjoy this nearly as much . xxmaj it is educational , funny , interesting and tense . xxmaj xxunk shares the screen with two interesting xxunk , two tired mechanics , two excellent xxunk and too much xxmaj russ . xxmaj ewan makes a few appearances but xxmaj xxunk really pulls it off alone . xxmaj he is funny ,</td>\n",
       "    </tr>\n",
       "    <tr>\n",
       "      <th>1</th>\n",
       "      <td>, and xxup then he finally dies . ) i guess it 's not going to be perfect , since it 's an independent movie , but it still could be better . xxmaj not worth watching , honestly , even for kids . xxmaj might as well watch something good , like xxmaj the xxmaj lion xxmaj king or xxmaj toy xxmaj story if you 're going to see anything you</td>\n",
       "      <td>and xxup then he finally dies . ) i guess it 's not going to be perfect , since it 's an independent movie , but it still could be better . xxmaj not worth watching , honestly , even for kids . xxmaj might as well watch something good , like xxmaj the xxmaj lion xxmaj king or xxmaj toy xxmaj story if you 're going to see anything you 'll</td>\n",
       "    </tr>\n",
       "  </tbody>\n",
       "</table>"
      ],
      "text/plain": [
       "<IPython.core.display.HTML object>"
      ]
     },
     "metadata": {},
     "output_type": "display_data"
    }
   ],
   "source": [
    "dbunch.show_batch(max_n=2)"
   ]
  },
  {
   "cell_type": "markdown",
   "metadata": {},
   "source": [
    "Then we have a convenience method to directly grab a `Learner` from it, using the `AWD_LSTM` architecture."
   ]
  },
  {
   "cell_type": "code",
   "execution_count": null,
   "metadata": {},
   "outputs": [],
   "source": [
    "learn = language_model_learner(dbunch, AWD_LSTM, metrics=[accuracy, Perplexity()], path=path, opt_func = partial(Adam, wd=0.1)).to_fp16()"
   ]
  },
  {
   "cell_type": "code",
   "execution_count": null,
   "metadata": {},
   "outputs": [
    {
     "data": {
      "text/html": [
       "<table border=\"1\" class=\"dataframe\">\n",
       "  <thead>\n",
       "    <tr style=\"text-align: left;\">\n",
       "      <th>epoch</th>\n",
       "      <th>train_loss</th>\n",
       "      <th>valid_loss</th>\n",
       "      <th>accuracy</th>\n",
       "      <th>perplexity</th>\n",
       "      <th>time</th>\n",
       "    </tr>\n",
       "  </thead>\n",
       "  <tbody>\n",
       "    <tr>\n",
       "      <td>0</td>\n",
       "      <td>4.552990</td>\n",
       "      <td>4.052593</td>\n",
       "      <td>0.274990</td>\n",
       "      <td>57.546467</td>\n",
       "      <td>00:09</td>\n",
       "    </tr>\n",
       "  </tbody>\n",
       "</table>"
      ],
      "text/plain": [
       "<IPython.core.display.HTML object>"
      ]
     },
     "metadata": {},
     "output_type": "display_data"
    }
   ],
   "source": [
    "learn.freeze()\n",
    "learn.fit_one_cycle(1, 1e-2)"
   ]
  },
  {
   "cell_type": "code",
   "execution_count": null,
   "metadata": {},
   "outputs": [
    {
     "data": {
      "text/html": [
       "<table border=\"1\" class=\"dataframe\">\n",
       "  <thead>\n",
       "    <tr style=\"text-align: left;\">\n",
       "      <th>epoch</th>\n",
       "      <th>train_loss</th>\n",
       "      <th>valid_loss</th>\n",
       "      <th>accuracy</th>\n",
       "      <th>perplexity</th>\n",
       "      <th>time</th>\n",
       "    </tr>\n",
       "  </thead>\n",
       "  <tbody>\n",
       "    <tr>\n",
       "      <td>0</td>\n",
       "      <td>4.306663</td>\n",
       "      <td>4.149500</td>\n",
       "      <td>0.258906</td>\n",
       "      <td>63.402313</td>\n",
       "      <td>00:11</td>\n",
       "    </tr>\n",
       "    <tr>\n",
       "      <td>1</td>\n",
       "      <td>4.136341</td>\n",
       "      <td>4.089919</td>\n",
       "      <td>0.269491</td>\n",
       "      <td>59.735058</td>\n",
       "      <td>00:11</td>\n",
       "    </tr>\n",
       "    <tr>\n",
       "      <td>2</td>\n",
       "      <td>3.815114</td>\n",
       "      <td>4.048334</td>\n",
       "      <td>0.273331</td>\n",
       "      <td>57.301918</td>\n",
       "      <td>00:10</td>\n",
       "    </tr>\n",
       "    <tr>\n",
       "      <td>3</td>\n",
       "      <td>3.441840</td>\n",
       "      <td>4.085623</td>\n",
       "      <td>0.273609</td>\n",
       "      <td>59.478970</td>\n",
       "      <td>00:11</td>\n",
       "    </tr>\n",
       "  </tbody>\n",
       "</table>"
      ],
      "text/plain": [
       "<IPython.core.display.HTML object>"
      ]
     },
     "metadata": {},
     "output_type": "display_data"
    }
   ],
   "source": [
    "learn.unfreeze()\n",
    "learn.fit_one_cycle(4, 1e-2)"
   ]
  },
  {
   "cell_type": "markdown",
   "metadata": {},
   "source": [
    "Once we have fine-tuned the pretrained language model to this corpus, we save the encoder since we will use it for the classifier."
   ]
  },
  {
   "cell_type": "code",
   "execution_count": null,
   "metadata": {},
   "outputs": [
    {
     "data": {
      "text/html": [],
      "text/plain": [
       "<IPython.core.display.HTML object>"
      ]
     },
     "metadata": {},
     "output_type": "display_data"
    },
    {
     "data": {
      "text/html": [
       "<table border=\"1\" class=\"dataframe\">\n",
       "  <thead>\n",
       "    <tr style=\"text-align: right;\">\n",
       "      <th></th>\n",
       "      <th>input</th>\n",
       "      <th>target</th>\n",
       "      <th>pred</th>\n",
       "    </tr>\n",
       "  </thead>\n",
       "  <tbody>\n",
       "    <tr>\n",
       "      <th>0</th>\n",
       "      <td>xxbos xxmaj ah , a xxmaj kelly / xxmaj sinatra sailor - suit musical . xxmaj so familiar , right ? xxmaj yes , but this is n't the one you usually hear about . xxmaj on xxmaj the xxmaj town 's that - a - way . xxmaj but if you stick around , you might learn something . xxmaj okay , probably not . xxmaj anyway , xxmaj xxunk xxmaj</td>\n",
       "      <td>xxmaj ah , a xxmaj kelly / xxmaj sinatra sailor - suit musical . xxmaj so familiar , right ? xxmaj yes , but this is n't the one you usually hear about . xxmaj on xxmaj the xxmaj town 's that - a - way . xxmaj but if you stick around , you might learn something . xxmaj okay , probably not . xxmaj anyway , xxmaj xxunk xxmaj xxunk</td>\n",
       "      <td>xxmaj this , i xxmaj japanese xxmaj xxmaj kelly fan - xxunk who . xxmaj it , , that ? xxmaj and , i it is n't a best that 're hear about . xxmaj it the the xxmaj town 's xxmaj xxmaj a - way to xxmaj it it you want to the you 'll be that . xxmaj it , it because a xxmaj but , i i xxmaj xxunk</td>\n",
       "    </tr>\n",
       "    <tr>\n",
       "      <th>1</th>\n",
       "      <td>only reason you may not like it is because it is set in the future where xxmaj xxunk has gone to hell . that and you my not like it cause the future they show could very well happen . xxbos xxmaj stephen xxmaj king was raised on flicks like this . xxunk xxup not films . \\n\\n xxmaj movies like this and ' jeepers xxmaj creepers ' are \" xxunk \"</td>\n",
       "      <td>reason you may not like it is because it is set in the future where xxmaj xxunk has gone to hell . that and you my not like it cause the future they show could very well happen . xxbos xxmaj stephen xxmaj king was raised on flicks like this . xxunk xxup not films . \\n\\n xxmaj movies like this and ' jeepers xxmaj creepers ' are \" xxunk \" to</td>\n",
       "      <td>one why can not like this . because it is a in the xxmaj . it xxunk xxmaj been to work . xxmaj the when can xxunk - the . the movie to will it be well happen . xxmaj xxmaj this xxmaj king is a by a like this . xxmaj xxmaj xxunk xxup like xxmaj xxmaj the like this are xxmaj xxunk xxmaj xxunk ' are so xxunk \" .</td>\n",
       "    </tr>\n",
       "    <tr>\n",
       "      <th>2</th>\n",
       "      <td>one truly understand the xxunk of this film . xxmaj personally i enjoy the narrator for his intelligent , no subject left xxunk , style of narration . xxmaj the introduction grips you right away , and holds you at the edge of your seat throughout the film . xxmaj he provides wonderful insight into the world of the xxunk and allows the audience to really ' connect ' with internal horror</td>\n",
       "      <td>truly understand the xxunk of this film . xxmaj personally i enjoy the narrator for his intelligent , no subject left xxunk , style of narration . xxmaj the introduction grips you right away , and holds you at the edge of your seat throughout the film . xxmaj he provides wonderful insight into the world of the xxunk and allows the audience to really ' connect ' with internal horror this</td>\n",
       "      <td>of loved the xxunk of the film . xxmaj it , was the xxunk 's his xxunk and xxunk - , xxunk , and of writing , xxmaj the xxunk of the out away from and the you in the right of your seat . the entire . xxmaj the is us insight into the world of the xxmaj and the the viewer to xxunk xxunk xxunk ' with the xxunk .</td>\n",
       "    </tr>\n",
       "    <tr>\n",
       "      <th>3</th>\n",
       "      <td>xxmaj paperhouse yet available in the xxup u.s . ( only in xxmaj europe ) , here 's hoping one of my wishes will come true as i truly cherish this beautiful film and a xxup dvd of it would be very welcome ! \\n\\n xxmaj it 's satisfying watching the girl work out her thoughts like a xxunk game trying to make the dream world work for her and her xxunk</td>\n",
       "      <td>paperhouse yet available in the xxup u.s . ( only in xxmaj europe ) , here 's hoping one of my wishes will come true as i truly cherish this beautiful film and a xxup dvd of it would be very welcome ! \\n\\n xxmaj it 's satisfying watching the girl work out her thoughts like a xxunk game trying to make the dream world work for her and her xxunk friend</td>\n",
       "      <td>xxunk . . on xxmaj xxup u.s . . and the the europe ) . and 's where that might the friends will be out . i am have the film film . it new dvd of it . be worth welcome . xxbos xxmaj the 's a to this film in out the xxunk on this xxunk , . to make a girl world feel . her . her xxunk xxunk</td>\n",
       "    </tr>\n",
       "    <tr>\n",
       "      <th>4</th>\n",
       "      <td>when i first saw this short , i was really laughing so hard , that like with a lot of other films that i have seen , no sound came out ! xxmaj curly is really great at \" singing \" opera in this one , i am surprised that he did not consider a career as a professional singer , because he was really good ! \\n\\n xxmaj if you noticed</td>\n",
       "      <td>i first saw this short , i was really laughing so hard , that like with a lot of other films that i have seen , no sound came out ! xxmaj curly is really great at \" singing \" opera in this one , i am surprised that he did not consider a career as a professional singer , because he was really good ! \\n\\n xxmaj if you noticed ,</td>\n",
       "      <td>xxmaj saw saw the movie , i was surprised surprised . hard . that i xxmaj the lot of other movies , were have seen , this one was out . xxmaj the was a a as this xxunk \" this , this movie . and was surprised that he did n't have himself career as a professional actor . because he was a good at xxmaj xxmaj the you are the</td>\n",
       "    </tr>\n",
       "    <tr>\n",
       "      <th>5</th>\n",
       "      <td>but not in an amusingly inept way , simply incredibly tedious . xxmaj this footage has clearly been knocked together quickly and without any effort . xxmaj it serves as a framing device for the endless clips from the first ( and possibly second ) movies . xxmaj and boy , do they milk those clips from the earlier films ; sometimes xxunk sequences over and over again . xxmaj the only</td>\n",
       "      <td>not in an amusingly inept way , simply incredibly tedious . xxmaj this footage has clearly been knocked together quickly and without any effort . xxmaj it serves as a framing device for the endless clips from the first ( and possibly second ) movies . xxmaj and boy , do they milk those clips from the earlier films ; sometimes xxunk sequences over and over again . xxmaj the only new</td>\n",
       "      <td>not as the attempt inept way . and because xxunk . xxmaj the is is a been xxunk together by and without any regard . xxmaj the 's as a xxunk device for the movie xxunk and the movie and and second second ) movie . xxmaj the the , i n't get the films from the first films . they they the are and over again . xxmaj the xxunk redeeming</td>\n",
       "    </tr>\n",
       "    <tr>\n",
       "      <th>6</th>\n",
       "      <td>he has to go to the theater . xxmaj that xxmaj april xxunk must have been very busy for xxmaj xxunk - in \" xxunk xxmaj city \" he xxunk a pardon to xxmaj errol xxmaj flynn at the xxunk of xxmaj xxunk xxmaj hopkins on the same date . \\n\\n xxmaj actually , while xxmaj lincoln was concerned about the xxmaj west , his immediate thoughts on the last day of</td>\n",
       "      <td>has to go to the theater . xxmaj that xxmaj april xxunk must have been very busy for xxmaj xxunk - in \" xxunk xxmaj city \" he xxunk a pardon to xxmaj errol xxmaj flynn at the xxunk of xxmaj xxunk xxmaj hopkins on the same date . \\n\\n xxmaj actually , while xxmaj lincoln was concerned about the xxmaj west , his immediate thoughts on the last day of his</td>\n",
       "      <td>'s been xxunk to a xxunk and xxmaj he 's xxunk is is have been a xxunk with the xxunk xxmaj xxunk the xxunk \" park \" , was to xxunk to xxmaj xxunk xxmaj flynn . the same of xxmaj xxunk xxmaj xxunk . the xxmaj date . xxmaj xxmaj the , the xxmaj xxunk 's still with the xxmaj west , he xxunk reaction on the xxmaj day of the</td>\n",
       "    </tr>\n",
       "    <tr>\n",
       "      <th>7</th>\n",
       "      <td>point to this film . \\n\\n xxmaj for content that 's supposed to be so ' xxunk ' and ' controversial ' the things that xxmaj xxunk xxunk to the students are awfully lame . xxmaj students seem to be easily xxunk by xxunk anti - xxunk sentiments and xxunk of words xxunk xxunk onto xxunk . xxmaj rebel , everybody . \\n\\n i suppose it would have been too much to</td>\n",
       "      <td>to this film . \\n\\n xxmaj for content that 's supposed to be so ' xxunk ' and ' controversial ' the things that xxmaj xxunk xxunk to the students are awfully lame . xxmaj students seem to be easily xxunk by xxunk anti - xxunk sentiments and xxunk of words xxunk xxunk onto xxunk . xxmaj rebel , everybody . \\n\\n i suppose it would have been too much to ask</td>\n",
       "      <td>of the : . xxmaj xxmaj the those that is not to be a bad xxunk ' , ' xxunk ' , film that xxmaj xxunk xxunk to the film are xxunk xxunk . xxmaj the are to be xxunk xxunk by the xxunk - xxunk xxunk and xxunk xxunk xxunk . xxunk . the . xxmaj the xxunk xxunk , xxmaj xxmaj think that 's have been a bad to be</td>\n",
       "    </tr>\n",
       "    <tr>\n",
       "      <th>8</th>\n",
       "      <td>best films of the 70 's . i love the type of humor in this film , it just makes me laugh so hard . \\n\\n i got this movie on xxup vhs 3 days ago ( yes , xxup vhs because it was cheaper - only $ 3 ) . i watched it as soon as i got home , but i had to watch it again because i kept missing</td>\n",
       "      <td>films of the 70 's . i love the type of humor in this film , it just makes me laugh so hard . \\n\\n i got this movie on xxup vhs 3 days ago ( yes , xxup vhs because it was cheaper - only $ 3 ) . i watched it as soon as i got home , but i had to watch it again because i kept missing a</td>\n",
       "      <td>of of the year 's . xxmaj have the xxunk of movie that this film , but 's makes me laugh so hard . xxmaj xxmaj was the movie because xxup vhs , days ago , i , i vhs , it was xxup to only $ 1 ) , xxmaj was it with well as i was to , and i was to watch it because because i was watching the</td>\n",
       "    </tr>\n",
       "    <tr>\n",
       "      <th>9</th>\n",
       "      <td>themselves into their respective roles . \\n\\n xxmaj music , which was used so powerfully in xxup bsg , also plays a significant role in xxmaj caprica . xxmaj battlestar 's powerful rolling drums and mournful xxunk served it 's themes very well . xxmaj caprica uses a more xxunk sound , which gives the show it 's own feeling quite distinct from either of it 's predecessors . \\n\\n xxmaj the</td>\n",
       "      <td>into their respective roles . \\n\\n xxmaj music , which was used so powerfully in xxup bsg , also plays a significant role in xxmaj caprica . xxmaj battlestar 's powerful rolling drums and mournful xxunk served it 's themes very well . xxmaj caprica uses a more xxunk sound , which gives the show it 's own feeling quite distinct from either of it 's predecessors . \\n\\n xxmaj the new</td>\n",
       "      <td>. a own roles . xxmaj xxmaj the is music is used in well in the wwii , is plays a major role in the caprica . xxmaj it 's xxunk , drums and xxunk xxunk xxunk as 's xxunk . well . xxmaj it is a more xxunk atmosphere effects which makes the show a 's own feel . xxunk from the of the 's predecessors . xxmaj xxmaj the overall</td>\n",
       "    </tr>\n",
       "  </tbody>\n",
       "</table>"
      ],
      "text/plain": [
       "<IPython.core.display.HTML object>"
      ]
     },
     "metadata": {},
     "output_type": "display_data"
    }
   ],
   "source": [
    "learn.show_results()"
   ]
  },
  {
   "cell_type": "code",
   "execution_count": null,
   "metadata": {},
   "outputs": [],
   "source": [
    "learn.save_encoder('enc1')"
   ]
  },
  {
   "cell_type": "markdown",
   "metadata": {},
   "source": [
    "## Use it to train a classifier"
   ]
  },
  {
   "cell_type": "markdown",
   "metadata": {},
   "source": [
    "For classification, we need to use two set of transforms: one to numericalize the texts and the other to encode the labels as categories. Note that we have to use the same vocabulary as the one used in fine-tuning the language model."
   ]
  },
  {
   "cell_type": "code",
   "execution_count": null,
   "metadata": {},
   "outputs": [],
   "source": [
    "lm_vocab = dbunch.vocab"
   ]
  },
  {
   "cell_type": "code",
   "execution_count": null,
   "metadata": {},
   "outputs": [
    {
     "data": {
      "text/html": [],
      "text/plain": [
       "<IPython.core.display.HTML object>"
      ]
     },
     "metadata": {},
     "output_type": "display_data"
    }
   ],
   "source": [
    "splits = ColSplitter()(df)\n",
    "x_tfms = [attrgetter(\"text\"), Tokenizer.from_df(\"text\"), Numericalize(vocab=lm_vocab)]\n",
    "dsrc = DataSource(df, splits=splits, tfms=[x_tfms, [attrgetter(\"label\"), Categorize()]], dl_type=SortedDL)"
   ]
  },
  {
   "cell_type": "markdown",
   "metadata": {},
   "source": [
    "We once again use a subclass of `TfmdDL` for the dataloaders, since we want to sort the texts (sortish for the training set) by order of lengths. We also use `pad_collate` to create batches form texts of different lengths."
   ]
  },
  {
   "cell_type": "code",
   "execution_count": null,
   "metadata": {},
   "outputs": [],
   "source": [
    "dbunch = dsrc.databunch(before_batch=pad_input, after_batch=Cuda)"
   ]
  },
  {
   "cell_type": "markdown",
   "metadata": {},
   "source": [
    "And there is a factory method, once again:"
   ]
  },
  {
   "cell_type": "code",
   "execution_count": null,
   "metadata": {},
   "outputs": [
    {
     "data": {
      "text/html": [],
      "text/plain": [
       "<IPython.core.display.HTML object>"
      ]
     },
     "metadata": {},
     "output_type": "display_data"
    }
   ],
   "source": [
    "dbunch = TextDataBunch.from_df(df, text_col=\"text\", text_vocab=lm_vocab, label_col='label', valid_col='is_valid', bs=32)"
   ]
  },
  {
   "cell_type": "code",
   "execution_count": null,
   "metadata": {},
   "outputs": [
    {
     "data": {
      "text/html": [
       "<table border=\"1\" class=\"dataframe\">\n",
       "  <thead>\n",
       "    <tr style=\"text-align: right;\">\n",
       "      <th></th>\n",
       "      <th>text</th>\n",
       "      <th>category</th>\n",
       "    </tr>\n",
       "  </thead>\n",
       "  <tbody>\n",
       "    <tr>\n",
       "      <th>0</th>\n",
       "      <td>xxbos xxmaj raising xxmaj victor xxmaj vargas : a xxmaj review \\n\\n xxmaj you know , xxmaj raising xxmaj victor xxmaj vargas is like sticking your hands into a big , xxunk bowl of xxunk . xxmaj it 's warm and gooey , but you 're not sure if it feels right . xxmaj try as i might , no</td>\n",
       "      <td>negative</td>\n",
       "    </tr>\n",
       "    <tr>\n",
       "      <th>1</th>\n",
       "      <td>xxbos xxup the xxup shop xxup around xxup the xxup corner is one of the xxunk and most feel - good romantic comedies ever made . xxmaj there 's just no getting around that , and it 's hard to actually put one 's feeling for this film into words . xxmaj it 's not one of those films that</td>\n",
       "      <td>positive</td>\n",
       "    </tr>\n",
       "  </tbody>\n",
       "</table>"
      ],
      "text/plain": [
       "<IPython.core.display.HTML object>"
      ]
     },
     "metadata": {},
     "output_type": "display_data"
    }
   ],
   "source": [
    "dbunch.show_batch(max_n=2, trunc_at=60)"
   ]
  },
  {
   "cell_type": "markdown",
   "metadata": {},
   "source": [
    "Then we once again have a convenience function to create a classifier from this `DataBunch` with the `AWD_LSTM` architecture."
   ]
  },
  {
   "cell_type": "code",
   "execution_count": null,
   "metadata": {},
   "outputs": [],
   "source": [
    "learn = text_classifier_learner(dbunch, AWD_LSTM, metrics=[accuracy], path=path,drop_mult=0.5)"
   ]
  },
  {
   "cell_type": "code",
   "execution_count": null,
   "metadata": {},
   "outputs": [],
   "source": [
    "learn = learn.load_encoder('enc1')"
   ]
  },
  {
   "cell_type": "markdown",
   "metadata": {},
   "source": [
    "Then we can train with gradual unfreezing and differential learning rates."
   ]
  },
  {
   "cell_type": "code",
   "execution_count": null,
   "metadata": {},
   "outputs": [
    {
     "data": {
      "text/html": [
       "<table border=\"1\" class=\"dataframe\">\n",
       "  <thead>\n",
       "    <tr style=\"text-align: left;\">\n",
       "      <th>epoch</th>\n",
       "      <th>train_loss</th>\n",
       "      <th>valid_loss</th>\n",
       "      <th>accuracy</th>\n",
       "      <th>time</th>\n",
       "    </tr>\n",
       "  </thead>\n",
       "  <tbody>\n",
       "    <tr>\n",
       "      <td>0</td>\n",
       "      <td>0.740185</td>\n",
       "      <td>0.641235</td>\n",
       "      <td>0.565000</td>\n",
       "      <td>00:06</td>\n",
       "    </tr>\n",
       "    <tr>\n",
       "      <td>1</td>\n",
       "      <td>0.586413</td>\n",
       "      <td>0.497715</td>\n",
       "      <td>0.760000</td>\n",
       "      <td>00:05</td>\n",
       "    </tr>\n",
       "    <tr>\n",
       "      <td>2</td>\n",
       "      <td>0.509310</td>\n",
       "      <td>0.462465</td>\n",
       "      <td>0.755000</td>\n",
       "      <td>00:05</td>\n",
       "    </tr>\n",
       "    <tr>\n",
       "      <td>3</td>\n",
       "      <td>0.454171</td>\n",
       "      <td>0.467430</td>\n",
       "      <td>0.755000</td>\n",
       "      <td>00:05</td>\n",
       "    </tr>\n",
       "  </tbody>\n",
       "</table>"
      ],
      "text/plain": [
       "<IPython.core.display.HTML object>"
      ]
     },
     "metadata": {},
     "output_type": "display_data"
    }
   ],
   "source": [
    "learn.fit_one_cycle(4)"
   ]
  },
  {
   "cell_type": "code",
   "execution_count": null,
   "metadata": {},
   "outputs": [
    {
     "data": {
      "text/html": [
       "<table border=\"1\" class=\"dataframe\">\n",
       "  <thead>\n",
       "    <tr style=\"text-align: left;\">\n",
       "      <th>epoch</th>\n",
       "      <th>train_loss</th>\n",
       "      <th>valid_loss</th>\n",
       "      <th>accuracy</th>\n",
       "      <th>time</th>\n",
       "    </tr>\n",
       "  </thead>\n",
       "  <tbody>\n",
       "    <tr>\n",
       "      <td>0</td>\n",
       "      <td>0.432282</td>\n",
       "      <td>0.463266</td>\n",
       "      <td>0.750000</td>\n",
       "      <td>00:10</td>\n",
       "    </tr>\n",
       "    <tr>\n",
       "      <td>1</td>\n",
       "      <td>0.402960</td>\n",
       "      <td>0.462794</td>\n",
       "      <td>0.800000</td>\n",
       "      <td>00:10</td>\n",
       "    </tr>\n",
       "    <tr>\n",
       "      <td>2</td>\n",
       "      <td>0.368824</td>\n",
       "      <td>0.492125</td>\n",
       "      <td>0.785000</td>\n",
       "      <td>00:10</td>\n",
       "    </tr>\n",
       "    <tr>\n",
       "      <td>3</td>\n",
       "      <td>0.338550</td>\n",
       "      <td>0.444738</td>\n",
       "      <td>0.820000</td>\n",
       "      <td>00:11</td>\n",
       "    </tr>\n",
       "    <tr>\n",
       "      <td>4</td>\n",
       "      <td>0.305834</td>\n",
       "      <td>0.433889</td>\n",
       "      <td>0.825000</td>\n",
       "      <td>00:11</td>\n",
       "    </tr>\n",
       "    <tr>\n",
       "      <td>5</td>\n",
       "      <td>0.269694</td>\n",
       "      <td>0.474207</td>\n",
       "      <td>0.810000</td>\n",
       "      <td>00:11</td>\n",
       "    </tr>\n",
       "    <tr>\n",
       "      <td>6</td>\n",
       "      <td>0.244303</td>\n",
       "      <td>0.471722</td>\n",
       "      <td>0.825000</td>\n",
       "      <td>00:09</td>\n",
       "    </tr>\n",
       "    <tr>\n",
       "      <td>7</td>\n",
       "      <td>0.226905</td>\n",
       "      <td>0.469794</td>\n",
       "      <td>0.815000</td>\n",
       "      <td>00:10</td>\n",
       "    </tr>\n",
       "  </tbody>\n",
       "</table>"
      ],
      "text/plain": [
       "<IPython.core.display.HTML object>"
      ]
     },
     "metadata": {},
     "output_type": "display_data"
    }
   ],
   "source": [
    "learn.unfreeze()\n",
    "learn.opt = learn.create_opt()\n",
    "learn.fit_one_cycle(8, slice(1e-5,1e-3))"
   ]
  },
  {
   "cell_type": "code",
   "execution_count": null,
   "metadata": {},
   "outputs": [
    {
     "data": {
      "text/html": [],
      "text/plain": [
       "<IPython.core.display.HTML object>"
      ]
     },
     "metadata": {},
     "output_type": "display_data"
    },
    {
     "data": {
      "text/html": [
       "<table border=\"1\" class=\"dataframe\">\n",
       "  <thead>\n",
       "    <tr style=\"text-align: right;\">\n",
       "      <th></th>\n",
       "      <th>text</th>\n",
       "      <th>category</th>\n",
       "      <th>category_</th>\n",
       "    </tr>\n",
       "  </thead>\n",
       "  <tbody>\n",
       "    <tr>\n",
       "      <th>0</th>\n",
       "      <td>xxbos xxmaj raising xxmaj victor xxmaj vargas : a xxmaj review \\n\\n xxmaj you know , xxmaj raising xxmaj victor xxmaj vargas is like sticking your hands into a big , xxunk bowl of xxunk . xxmaj it 's warm and gooey , but you 're not sure if it feels right . xxmaj try as i might , no</td>\n",
       "      <td>negative</td>\n",
       "      <td>negative</td>\n",
       "    </tr>\n",
       "    <tr>\n",
       "      <th>1</th>\n",
       "      <td>xxbos xxup the xxup shop xxup around xxup the xxup corner is one of the xxunk and most feel - good romantic comedies ever made . xxmaj there 's just no getting around that , and it 's hard to actually put one 's feeling for this film into words . xxmaj it 's not one of those films that</td>\n",
       "      <td>positive</td>\n",
       "      <td>positive</td>\n",
       "    </tr>\n",
       "  </tbody>\n",
       "</table>"
      ],
      "text/plain": [
       "<IPython.core.display.HTML object>"
      ]
     },
     "metadata": {},
     "output_type": "display_data"
    }
   ],
   "source": [
    "learn.show_results(max_n=2, trunc_at=60)"
   ]
  },
  {
   "cell_type": "code",
   "execution_count": null,
   "metadata": {},
   "outputs": [
    {
     "data": {
      "text/html": [],
      "text/plain": [
       "<IPython.core.display.HTML object>"
      ]
     },
     "metadata": {},
     "output_type": "display_data"
    },
    {
     "data": {
      "text/plain": [
       "('positive', tensor(1), tensor([0.4949, 0.5051]))"
      ]
     },
     "execution_count": null,
     "metadata": {},
     "output_type": "execute_result"
    }
   ],
   "source": [
    "learn.predict(\"This was a good movie\")"
   ]
  },
  {
   "cell_type": "code",
   "execution_count": null,
   "metadata": {},
   "outputs": [],
   "source": [
    "from fastai2.interpret import *"
   ]
  },
  {
   "cell_type": "code",
   "execution_count": null,
   "metadata": {},
   "outputs": [
    {
     "data": {
      "text/html": [],
      "text/plain": [
       "<IPython.core.display.HTML object>"
      ]
     },
     "metadata": {},
     "output_type": "display_data"
    }
   ],
   "source": [
    "interp = Interpretation.from_learner(learn)"
   ]
  },
  {
   "cell_type": "code",
   "execution_count": null,
   "metadata": {},
   "outputs": [
    {
     "data": {
      "text/html": [
       "<table border=\"1\" class=\"dataframe\">\n",
       "  <thead>\n",
       "    <tr style=\"text-align: right;\">\n",
       "      <th></th>\n",
       "      <th>input</th>\n",
       "      <th>target</th>\n",
       "      <th>predicted</th>\n",
       "      <th>probability</th>\n",
       "      <th>loss</th>\n",
       "    </tr>\n",
       "  </thead>\n",
       "  <tbody>\n",
       "    <tr>\n",
       "      <th>0</th>\n",
       "      <td>xxbos xxmaj i 'm gon na xxunk the xxunk here a bit and say i enjoyed this . xxmaj however , the cartoon is really only going to appeal to those who have very xxunk xxunk . xxmaj it 's definitely something that most people will not get , as is the nature of xxunk . \\n\\n the animation is horrible , but yes , that 's the point . xxmaj the main character is foul mouthed , violent , and stupid . no redeeming qualities whatsoever . his wife xxunk and xxunk , apparently just barely capable of the most basic xxunk skills . most of these stories completely lack any kind of point . \\n\\n but again , that 's the point xxunk \\n\\n xxmaj if non xxunk , foul language , and complete and utter xxunk are your thing , you 're going to love this .</td>\n",
       "      <td>positive</td>\n",
       "      <td>negative</td>\n",
       "      <td>0.9972332119941711</td>\n",
       "      <td>5.890044212341309</td>\n",
       "    </tr>\n",
       "    <tr>\n",
       "      <th>1</th>\n",
       "      <td>xxbos xxmaj most italian horror lovers seem to hate this movie since because it has no connection to the first two xxmaj demons films . xxmaj and with the \" demons xxrep 3 i \" in the title , one would assume it would . xxmaj the problem is that this film was never intended to be part of the xxmaj demons series . xxmaj the distributors only a \" demons xxrep 3 i \" above its original title \" the xxmaj ogre \" to cash in on the other films popularity . xxmaj the new xxmaj american xxup dvd release of this picture has the title \" demons xxrep 3 i : xxmaj the xxmaj ogre \" on the box art but the film itself only says \" the xxmaj ogre \" . i do n't know if past releases had the title \" demons xxrep 3 i \"</td>\n",
       "      <td>positive</td>\n",
       "      <td>negative</td>\n",
       "      <td>0.9962806105613708</td>\n",
       "      <td>5.594207763671875</td>\n",
       "    </tr>\n",
       "    <tr>\n",
       "      <th>2</th>\n",
       "      <td>xxbos xxmaj while i count myself as a fan of the xxmaj xxunk 5 television series , the original movie that introduced the series was a weak start . xxmaj although many of the elements that would later mature and become much more compelling in the series are there , the pace of xxmaj the xxmaj gathering is slow , the makeup somewhat inadequate , and the plot confusing . xxmaj worse , the characterization in the premiere episode is poor . xxmaj although the ratings xxunk shows that many fans are willing to overlook these problems , i remember xxmaj the xxmaj gathering almost turned me off off what soon grew into a spectacular series .</td>\n",
       "      <td>negative</td>\n",
       "      <td>positive</td>\n",
       "      <td>0.985458254814148</td>\n",
       "      <td>4.230735778808594</td>\n",
       "    </tr>\n",
       "    <tr>\n",
       "      <th>3</th>\n",
       "      <td>xxbos xxmaj weaker entry in the xxmaj xxunk xxmaj drummond series , with xxmaj john xxmaj howard in the role . xxmaj usual funny xxunk and antics , but not much plot . xxmaj barrymore gets something to do as the inspector , xxunk xxunk to follow xxmaj drummond , xxmaj algy , and xxmaj xxunk on a wild xxunk chase ( mostly in circles ; perhaps the budget was tighter than usual ) to rescue poor xxmaj xxunk , who is being held captive by people who want to lure xxmaj drummond to his doom . xxmaj for those keeping score , in this one , xxmaj drummond is planning to ask xxmaj xxunk to marry him and xxmaj algy is worried about missing the baby 's xxunk . xxmaj it 's fun to see xxmaj algy and xxmaj xxunk dressed up as xxunk to blend in at xxmaj</td>\n",
       "      <td>negative</td>\n",
       "      <td>positive</td>\n",
       "      <td>0.9851903319358826</td>\n",
       "      <td>4.2124786376953125</td>\n",
       "    </tr>\n",
       "    <tr>\n",
       "      <th>4</th>\n",
       "      <td>xxbos xxmaj this movie is xxunk in a ' so bad it 's good ' kind of way . \\n\\n xxmaj the storyline is xxunk from so many other films of this kind , that xxmaj i 'm not going to even bother xxunk it . xxmaj it 's a sword / sorcery picture , has a kid hoping to realize how important he is in this world , has a \" xxunk \" xxunk , an evil xxunk / xxunk , a princess , a hairy creature … xxunk get the point . \\n\\n xxmaj the first time i caught this movie was during a very harsh winter . i do n't know why i decided to continue watching it for an extra five minutes before turning the channel , but when i caught site of xxmaj gulfax , i decided to stay and watch it until the end</td>\n",
       "      <td>positive</td>\n",
       "      <td>negative</td>\n",
       "      <td>0.9814806580543518</td>\n",
       "      <td>3.9889371395111084</td>\n",
       "    </tr>\n",
       "    <tr>\n",
       "      <th>5</th>\n",
       "      <td>xxbos xxmaj for anyone who may not know what a one - actor movie was like , this is the best example . xxmaj this plot is ridiculous , and really makes no sense . xxmaj it 's full of xxunk situations , hackneyed lines , melodrama , comedy … you name it ! \\n\\n xxmaj but xxmaj xxunk xxmaj xxunk can make anything convincing , and this movie is by no means an exception . xxmaj everyone turns in a decent performance - xxmaj xxunk xxmaj xxunk , xxmaj xxunk xxmaj xxunk , xxmaj xxunk , xxmaj om xxmaj xxunk , xxmaj xxunk xxmaj xxunk … xxmaj but it is the xxmaj xxunk who xxunk everyone with his xxunk presence . xxmaj without him , this movie would have been a non - xxunk … xxmaj the story is about xxunk / mistaken identities / misunderstandings / love /</td>\n",
       "      <td>positive</td>\n",
       "      <td>negative</td>\n",
       "      <td>0.9746053814888</td>\n",
       "      <td>3.6732177734375</td>\n",
       "    </tr>\n",
       "  </tbody>\n",
       "</table>"
      ],
      "text/plain": [
       "<IPython.core.display.HTML object>"
      ]
     },
     "metadata": {},
     "output_type": "display_data"
    }
   ],
   "source": [
    "interp.plot_top_losses(6)"
   ]
  },
  {
   "cell_type": "code",
   "execution_count": null,
   "metadata": {},
   "outputs": [],
   "source": []
  }
 ],
 "metadata": {
  "jupytext": {
   "split_at_heading": true
  },
  "kernelspec": {
   "display_name": "Python 3",
   "language": "python",
   "name": "python3"
  }
 },
 "nbformat": 4,
 "nbformat_minor": 2
}
