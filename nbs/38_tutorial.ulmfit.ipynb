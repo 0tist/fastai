{
 "cells": [
  {
   "cell_type": "code",
   "execution_count": null,
   "metadata": {},
   "outputs": [],
   "source": [
    "from fastai2.basics import *\n",
    "from fastai2.text.all import *\n",
    "from fastai2.callback.all import *"
   ]
  },
  {
   "cell_type": "code",
   "execution_count": null,
   "metadata": {},
   "outputs": [],
   "source": [
    "from nbdev.showdoc import *"
   ]
  },
  {
   "cell_type": "code",
   "execution_count": null,
   "metadata": {},
   "outputs": [],
   "source": [
    "# all_slow"
   ]
  },
  {
   "cell_type": "markdown",
   "metadata": {},
   "source": [
    "# Transfer learning in text\n",
    "\n",
    "> How to fine-tune a language model and train a classifier"
   ]
  },
  {
   "cell_type": "markdown",
   "metadata": {},
   "source": [
    "## Finetune a pretrained Language Model"
   ]
  },
  {
   "cell_type": "markdown",
   "metadata": {},
   "source": [
    "First we get our data and tokenize it."
   ]
  },
  {
   "cell_type": "code",
   "execution_count": null,
   "metadata": {},
   "outputs": [
    {
     "data": {
      "text/html": [],
      "text/plain": [
       "<IPython.core.display.HTML object>"
      ]
     },
     "metadata": {},
     "output_type": "display_data"
    }
   ],
   "source": [
    "path = untar_data(URLs.IMDB_SAMPLE)\n",
    "df = pd.read_csv(path/'texts.csv')\n",
    "df_tok,count = tokenize_df(df, 'text')"
   ]
  },
  {
   "cell_type": "markdown",
   "metadata": {},
   "source": [
    "Then we put it in a `DataSource`. For a language model, we don't have targets, so there is only one transform to numericalize the texts. Note that `tokenize_df` returns the count of the words in the corpus to make it easy to create a vocabulary."
   ]
  },
  {
   "cell_type": "code",
   "execution_count": null,
   "metadata": {},
   "outputs": [],
   "source": [
    "splits = RandomSplitter()(range_of(df_tok))\n",
    "vocab = make_vocab(count)\n",
    "dsrc = DataSource(df_tok, [[attrgetter(\"text\"), Numericalize(vocab)]], splits=splits, dl_type=LMDataLoader)"
   ]
  },
  {
   "cell_type": "markdown",
   "metadata": {},
   "source": [
    "Then we use that `DataSource` to create a `DataBunch`. Here the class of `TfmdDL` we need to use is `LMDataLoader` which will concatenate all the texts in a source (with a shuffle at each epoch for the training set), split it in `bs` chunks then read continuously through it."
   ]
  },
  {
   "cell_type": "code",
   "execution_count": null,
   "metadata": {},
   "outputs": [],
   "source": [
    "dbunch = dsrc.databunch(bs=64, seq_len=72, after_batch=Cuda)"
   ]
  },
  {
   "cell_type": "markdown",
   "metadata": {},
   "source": [
    "Or more simply with a factory method:"
   ]
  },
  {
   "cell_type": "code",
   "execution_count": null,
   "metadata": {},
   "outputs": [],
   "source": [
    "dbunch = TextDataBunch.from_df(df_tok, text_col=\"text\", text_vocab=vocab, is_lm=True)"
   ]
  },
  {
   "cell_type": "code",
   "execution_count": null,
   "metadata": {},
   "outputs": [
    {
     "data": {
      "text/html": [
       "<table border=\"1\" class=\"dataframe\">\n",
       "  <thead>\n",
       "    <tr style=\"text-align: right;\">\n",
       "      <th></th>\n",
       "      <th>text</th>\n",
       "      <th>text_</th>\n",
       "    </tr>\n",
       "  </thead>\n",
       "  <tbody>\n",
       "    <tr>\n",
       "      <th>0</th>\n",
       "      <td>xxbos xxmaj the line is funnier in xxmaj england , where , away from xxmaj vixen ! 's native xxmaj america , the word \" xxunk \" has a whole new meaning . xxmaj sadly , it 's the only laugh you 'll get in this terrible sex comedy that is neither sexy nor funny . \\n\\n xxmaj oddly xxunk with painted - on xxunk , xxmaj xxunk xxmaj gavin ( acting</td>\n",
       "      <td>xxmaj the line is funnier in xxmaj england , where , away from xxmaj vixen ! 's native xxmaj america , the word \" xxunk \" has a whole new meaning . xxmaj sadly , it 's the only laugh you 'll get in this terrible sex comedy that is neither sexy nor funny . \\n\\n xxmaj oddly xxunk with painted - on xxunk , xxmaj xxunk xxmaj gavin ( acting ability</td>\n",
       "    </tr>\n",
       "    <tr>\n",
       "      <th>1</th>\n",
       "      <td>character , but the rest of his hard - xxunk xxunk want the hit - man dead . xxmaj like most crime thrillers in the 1960s and 1970s , \" big xxmaj guns \" xxunk to the cinematic morality that crime does not pay . xxmaj interestingly , the one man who has nothing to do with the murder of the wife and son of the hero survives while another xxunk the</td>\n",
       "      <td>, but the rest of his hard - xxunk xxunk want the hit - man dead . xxmaj like most crime thrillers in the 1960s and 1970s , \" big xxmaj guns \" xxunk to the cinematic morality that crime does not pay . xxmaj interestingly , the one man who has nothing to do with the murder of the wife and son of the hero survives while another xxunk the hero</td>\n",
       "    </tr>\n",
       "    <tr>\n",
       "      <th>2</th>\n",
       "      <td>but xxunk xxmaj mr . xxmaj burton forgets that his xxunk have working brains . xxmaj the over the top xxunk of xxmaj xxunk xxmaj xxunk xxmaj carter 's chimp , the xxunk of the humans ' xxunk , the ease of their escape , their extraordinary skills of xxunk ( this is an astronaut and a group of human xxunk suddenly riding full xxunk ) , the massive and immediate human</td>\n",
       "      <td>xxunk xxmaj mr . xxmaj burton forgets that his xxunk have working brains . xxmaj the over the top xxunk of xxmaj xxunk xxmaj xxunk xxmaj carter 's chimp , the xxunk of the humans ' xxunk , the ease of their escape , their extraordinary skills of xxunk ( this is an astronaut and a group of human xxunk suddenly riding full xxunk ) , the massive and immediate human xxunk</td>\n",
       "    </tr>\n",
       "    <tr>\n",
       "      <th>3</th>\n",
       "      <td>ingredients : it is just as poorly acted as their other efforts , we can watch xxmaj bo xxunk or xxunk for wet xxmaj t - shirt xxunk quite frequently , the story is just laughably idiotic , and the film takes itself much too seriously . xxmaj and then : xxmaj xxunk xxmaj xxunk in xxmaj africa ? \\n\\n xxmaj but it has a few things going for it . xxmaj</td>\n",
       "      <td>: it is just as poorly acted as their other efforts , we can watch xxmaj bo xxunk or xxunk for wet xxmaj t - shirt xxunk quite frequently , the story is just laughably idiotic , and the film takes itself much too seriously . xxmaj and then : xxmaj xxunk xxmaj xxunk in xxmaj africa ? \\n\\n xxmaj but it has a few things going for it . xxmaj bo</td>\n",
       "    </tr>\n",
       "    <tr>\n",
       "      <th>4</th>\n",
       "      <td>married to director xxmaj michael xxmaj xxunk . \\n\\n xxmaj but for me , the most memorable and weird aspect of the film is the seemingly gay subplot -- sort of like a xxup xxunk xxup mountain from the 1930s ( and we thought this was a xxup new idea ) . xxmaj gary xxmaj cooper 's character was raised by two men who hate women and do everything they can through</td>\n",
       "      <td>to director xxmaj michael xxmaj xxunk . \\n\\n xxmaj but for me , the most memorable and weird aspect of the film is the seemingly gay subplot -- sort of like a xxup xxunk xxup mountain from the 1930s ( and we thought this was a xxup new idea ) . xxmaj gary xxmaj cooper 's character was raised by two men who hate women and do everything they can through much</td>\n",
       "    </tr>\n",
       "    <tr>\n",
       "      <th>5</th>\n",
       "      <td>males and xxunk some of their body parts , was probably the most xxunk serial killer of our generation . xxmaj however , the real sick individuals are the filmmakers of this awful spectacle who should have had their heads examined before deciding to xxunk this awful ` xxunk ' project . xxmaj this is not an easy film to xxunk , even though xxmaj jeffrey would have easily xxunk it with</td>\n",
       "      <td>and xxunk some of their body parts , was probably the most xxunk serial killer of our generation . xxmaj however , the real sick individuals are the filmmakers of this awful spectacle who should have had their heads examined before deciding to xxunk this awful ` xxunk ' project . xxmaj this is not an easy film to xxunk , even though xxmaj jeffrey would have easily xxunk it with some</td>\n",
       "    </tr>\n",
       "    <tr>\n",
       "      <th>6</th>\n",
       "      <td>xxmaj grandfather who 's the only semi - likable character in this whole mess . xxmaj do n't waste your money , or time . xxmaj in fact here 's a word of advice , xxmaj if xxmaj troma puts it out on xxup dvd , but does xxup not make it themselves , in all likelihood it 's crap . \\n\\n xxmaj troma xxup dvd extras : commentary with xxmaj omar</td>\n",
       "      <td>grandfather who 's the only semi - likable character in this whole mess . xxmaj do n't waste your money , or time . xxmaj in fact here 's a word of advice , xxmaj if xxmaj troma puts it out on xxup dvd , but does xxup not make it themselves , in all likelihood it 's crap . \\n\\n xxmaj troma xxup dvd extras : commentary with xxmaj omar and</td>\n",
       "    </tr>\n",
       "    <tr>\n",
       "      <th>7</th>\n",
       "      <td>and xxunk tragic . xxmaj not for kids . xxmaj not for those with thin skins or who lack xxunk . xxmaj thought - provoking . xxmaj at once literal , xxunk , and surreal in disturbing ways . xxmaj the xxunk comedy i can recall . \\n\\n xxmaj and very possibly the most wonderful thing i will ever see . xxbos xxmaj this movies is the best movie to watch for</td>\n",
       "      <td>xxunk tragic . xxmaj not for kids . xxmaj not for those with thin skins or who lack xxunk . xxmaj thought - provoking . xxmaj at once literal , xxunk , and surreal in disturbing ways . xxmaj the xxunk comedy i can recall . \\n\\n xxmaj and very possibly the most wonderful thing i will ever see . xxbos xxmaj this movies is the best movie to watch for comic</td>\n",
       "    </tr>\n",
       "    <tr>\n",
       "      <th>8</th>\n",
       "      <td>movie , since i like zombies and horror movies in general . xxmaj but i did not think it would be such a piece of sh!t like it was . xxmaj the only zombie in the movie is at the beginning and he gets ran over by a god damn car xxrep 3 ! xxmaj the movie looks to be written by a porn director and filled by porn actors , i</td>\n",
       "      <td>, since i like zombies and horror movies in general . xxmaj but i did not think it would be such a piece of sh!t like it was . xxmaj the only zombie in the movie is at the beginning and he gets ran over by a god damn car xxrep 3 ! xxmaj the movie looks to be written by a porn director and filled by porn actors , i would</td>\n",
       "    </tr>\n",
       "  </tbody>\n",
       "</table>"
      ],
      "text/plain": [
       "<IPython.core.display.HTML object>"
      ]
     },
     "metadata": {},
     "output_type": "display_data"
    }
   ],
   "source": [
    "dbunch.show_batch()"
   ]
  },
  {
   "cell_type": "markdown",
   "metadata": {},
   "source": [
    "Then we have a convenience method to directly grab a `Learner` from it, using the `AWD_LSTM` architecture."
   ]
  },
  {
   "cell_type": "code",
   "execution_count": null,
   "metadata": {},
   "outputs": [],
   "source": [
    "learn = language_model_learner(dbunch, AWD_LSTM, metrics=[accuracy, Perplexity()], path=path, opt_func = partial(Adam, wd=0.1)).to_fp16()"
   ]
  },
  {
   "cell_type": "code",
   "execution_count": null,
   "metadata": {},
   "outputs": [
    {
     "data": {
      "text/html": [
       "<table border=\"1\" class=\"dataframe\">\n",
       "  <thead>\n",
       "    <tr style=\"text-align: left;\">\n",
       "      <th>epoch</th>\n",
       "      <th>train_loss</th>\n",
       "      <th>valid_loss</th>\n",
       "      <th>accuracy</th>\n",
       "      <th>perplexity</th>\n",
       "      <th>time</th>\n",
       "    </tr>\n",
       "  </thead>\n",
       "  <tbody>\n",
       "    <tr>\n",
       "      <td>0</td>\n",
       "      <td>4.450261</td>\n",
       "      <td>4.002472</td>\n",
       "      <td>0.273968</td>\n",
       "      <td>54.733280</td>\n",
       "      <td>00:15</td>\n",
       "    </tr>\n",
       "  </tbody>\n",
       "</table>"
      ],
      "text/plain": [
       "<IPython.core.display.HTML object>"
      ]
     },
     "metadata": {},
     "output_type": "display_data"
    }
   ],
   "source": [
    "learn.freeze()\n",
    "learn.fit_one_cycle(1, 1e-2, moms=(0.8,0.7,0.8))"
   ]
  },
  {
   "cell_type": "code",
   "execution_count": null,
   "metadata": {},
   "outputs": [
    {
     "data": {
      "text/html": [
       "<table border=\"1\" class=\"dataframe\">\n",
       "  <thead>\n",
       "    <tr style=\"text-align: left;\">\n",
       "      <th>epoch</th>\n",
       "      <th>train_loss</th>\n",
       "      <th>valid_loss</th>\n",
       "      <th>accuracy</th>\n",
       "      <th>perplexity</th>\n",
       "      <th>time</th>\n",
       "    </tr>\n",
       "  </thead>\n",
       "  <tbody>\n",
       "    <tr>\n",
       "      <td>0</td>\n",
       "      <td>4.380655</td>\n",
       "      <td>4.388360</td>\n",
       "      <td>0.237928</td>\n",
       "      <td>80.508240</td>\n",
       "      <td>00:19</td>\n",
       "    </tr>\n",
       "    <tr>\n",
       "      <td>1</td>\n",
       "      <td>4.286285</td>\n",
       "      <td>4.307310</td>\n",
       "      <td>0.248634</td>\n",
       "      <td>74.240486</td>\n",
       "      <td>00:17</td>\n",
       "    </tr>\n",
       "    <tr>\n",
       "      <td>2</td>\n",
       "      <td>3.900547</td>\n",
       "      <td>4.226243</td>\n",
       "      <td>0.261510</td>\n",
       "      <td>68.459518</td>\n",
       "      <td>00:17</td>\n",
       "    </tr>\n",
       "    <tr>\n",
       "      <td>3</td>\n",
       "      <td>3.377858</td>\n",
       "      <td>4.264581</td>\n",
       "      <td>0.262330</td>\n",
       "      <td>71.135124</td>\n",
       "      <td>00:17</td>\n",
       "    </tr>\n",
       "  </tbody>\n",
       "</table>"
      ],
      "text/plain": [
       "<IPython.core.display.HTML object>"
      ]
     },
     "metadata": {},
     "output_type": "display_data"
    }
   ],
   "source": [
    "learn.unfreeze()\n",
    "learn.fit_one_cycle(4, 1e-2, moms=(0.8,0.7,0.8))"
   ]
  },
  {
   "cell_type": "markdown",
   "metadata": {},
   "source": [
    "Once we have fine-tuned the pretrained language model to this corpus, we save the encoder since we will use it for the classifier."
   ]
  },
  {
   "cell_type": "code",
   "execution_count": null,
   "metadata": {},
   "outputs": [
    {
     "data": {
      "text/html": [],
      "text/plain": [
       "<IPython.core.display.HTML object>"
      ]
     },
     "metadata": {},
     "output_type": "display_data"
    },
    {
     "data": {
      "text/html": [
       "<table border=\"1\" class=\"dataframe\">\n",
       "  <thead>\n",
       "    <tr style=\"text-align: right;\">\n",
       "      <th></th>\n",
       "      <th>input</th>\n",
       "      <th>target</th>\n",
       "      <th>pred</th>\n",
       "    </tr>\n",
       "  </thead>\n",
       "  <tbody>\n",
       "    <tr>\n",
       "      <th>0</th>\n",
       "      <td>xxbos xxmaj this is n't one of xxmaj arbuckle 's or xxmaj keaton 's better films , that 's for sure . xxmaj fatty 's wife is tired of all his heavy drinking , so she takes him to a xxunk where a psychiatrist ( keaton ) claims to have a guaranteed cure ! xxmaj well , once there , xxmaj arbuckle accidentally eats a xxunk and is taken to surgery .</td>\n",
       "      <td>xxmaj this is n't one of xxmaj arbuckle 's or xxmaj keaton 's better films , that 's for sure . xxmaj fatty 's wife is tired of all his heavy drinking , so she takes him to a xxunk where a psychiatrist ( keaton ) claims to have a guaranteed cure ! xxmaj well , once there , xxmaj arbuckle accidentally eats a xxunk and is taken to surgery . xxmaj</td>\n",
       "      <td>xxmaj this is a a of those hollywood 's better xxmaj keaton 's better films , but 's what me , xxmaj the xxmaj wife , a of his the xxunk drinking , but he 's a to the xxunk xxunk he man ( robert ) is that be a xxunk cure . xxmaj the , he he , he jigsaw is xxunk a xxunk and turns thrown to the . xxmaj</td>\n",
       "    </tr>\n",
       "    <tr>\n",
       "      <th>1</th>\n",
       "      <td>references to xxmaj asimov 's xxmaj laws of xxmaj xxunk , but they are an xxunk to the xxup cgi and action scenes . \\n\\n xxmaj smith is likable , as he is in most of his films , but honestly , the story is n't that good . you figure it out long before these genius characters do . xxbos xxmaj my husband and i bought the xxmaj old xxmaj school</td>\n",
       "      <td>to xxmaj asimov 's xxmaj laws of xxmaj xxunk , but they are an xxunk to the xxup cgi and action scenes . \\n\\n xxmaj smith is likable , as he is in most of his films , but honestly , the story is n't that good . you figure it out long before these genius characters do . xxbos xxmaj my husband and i bought the xxmaj old xxmaj school xxmaj</td>\n",
       "      <td>to the xxunk 's \" xxunk of xxmaj xxunk . and this did not xxunk of the xxunk xxunk . the scenes . xxmaj xxmaj the 's a as but he is a a of his films , but he , he movie is not that good . xxmaj can out out . ago you two xxunk will n't xxmaj xxmaj this wife and i bought this xxup xxunk xxmaj school xxmaj</td>\n",
       "    </tr>\n",
       "    <tr>\n",
       "      <th>2</th>\n",
       "      <td>is the central philosophy of post modern capitalism : your xxunk is the most important thing . you must place yourself in the center , and no one else but you is the matter . this is the philosophy the film stands for , and that 's just it 's first sin . \\n\\n xxmaj if you disagree with me on the political side , xxmaj i 'm sure you will agree</td>\n",
       "      <td>the central philosophy of post modern capitalism : your xxunk is the most important thing . you must place yourself in the center , and no one else but you is the matter . this is the philosophy the film stands for , and that 's just it 's first sin . \\n\\n xxmaj if you disagree with me on the political side , xxmaj i 'm sure you will agree that</td>\n",
       "      <td>n't only xxunk of the modern capitalism . xxmaj xxunk are xxunk only important thing of xxmaj can see your in a woods of and you one will . you can n't only of xxmaj is a only of movie has for . and it 's what a 's not rate . xxmaj xxmaj the you want with the , the xxmaj side , you i 'm not you will be with</td>\n",
       "    </tr>\n",
       "    <tr>\n",
       "      <th>3</th>\n",
       "      <td>could had been a fine or even classic xxmaj b - movie , but here it is just a bad attempt at film - making . \\n\\n xxmaj director xxmaj philip xxup j. xxmaj jones tells the tale of xxmaj james xxmaj bishop ( matt xxmaj xxunk ) , a young xxunk resident , who just got his dream job at xxmaj st . xxmaj andrew xxmaj mental xxmaj hospital ; but</td>\n",
       "      <td>had been a fine or even classic xxmaj b - movie , but here it is just a bad attempt at film - making . \\n\\n xxmaj director xxmaj philip xxup j. xxmaj jones tells the tale of xxmaj james xxmaj bishop ( matt xxmaj xxunk ) , a young xxunk resident , who just got his dream job at xxmaj st . xxmaj andrew xxmaj mental xxmaj hospital ; but the</td>\n",
       "      <td>n't been a bit xxunk even xxunk movie hollywood - movie . but it 's was n't a xxunk movie at xxunk - making . xxmaj xxmaj the xxmaj xxunk xxmaj j. xxmaj xxunk is the story of a louis xxmaj xxunk ( james xxmaj damon ) , a professional man who who who is has his name job in a xxunk . xxmaj xxunk xxmaj hospital xxmaj hospital . he he</td>\n",
       "    </tr>\n",
       "    <tr>\n",
       "      <th>4</th>\n",
       "      <td>it has on the kid caught in between . xxmaj as a child of divorced parents i was totally relating to events in the film . xxmaj also - a really cool zombie twist which i thought was xxup very xxup original . xxmaj i 'm tired of the same old stuff in movies . a very realistic portrait of a broken family and the effect it has on the kid caught</td>\n",
       "      <td>has on the kid caught in between . xxmaj as a child of divorced parents i was totally relating to events in the film . xxmaj also - a really cool zombie twist which i thought was xxup very xxup original . xxmaj i 'm tired of the same old stuff in movies . a very realistic portrait of a broken family and the effect it has on the kid caught in</td>\n",
       "      <td>'s been the whole 's in the . xxmaj the a whole of xxmaj parents , was xxunk relating to the in the movie . xxmaj the , the very good scene twist which was thought was a very xxup original . xxmaj the 'm sure of the old old stuff and movies like xxmaj lot good portrait of a young family and the xxunk it has on the kid . in</td>\n",
       "    </tr>\n",
       "    <tr>\n",
       "      <th>5</th>\n",
       "      <td>\" scene and had to stop . xxmaj we could n't take it anymore . xxmaj this film is an xxup xxunk for xxmaj xxunk xxmaj xxunk . \\n\\n xxmaj if you are a fan of xxmaj office xxmaj space … … do n't waste your time with this turd . 0 / 10 xxbos xxmaj what i think xxmaj i 'll probably like best about the new xxmaj star xxmaj wars</td>\n",
       "      <td>scene and had to stop . xxmaj we could n't take it anymore . xxmaj this film is an xxup xxunk for xxmaj xxunk xxmaj xxunk . \\n\\n xxmaj if you are a fan of xxmaj office xxmaj space … … do n't waste your time with this turd . 0 / 10 xxbos xxmaj what i think xxmaj i 'll probably like best about the new xxmaj star xxmaj wars film</td>\n",
       "      <td>xxunk \" the a be \" \" it were n't help it to . \" it is is a xxunk ok movie a xxunk xxmaj xxunk . xxmaj xxmaj the you want looking fan of xxmaj xxunk xxmaj space , xxmaj xxmaj n't bother your money . this movie . xxbos / 10 xxbos xxmaj this i think of i 'm say be is about this movie xxmaj star xxmaj wars movie</td>\n",
       "    </tr>\n",
       "    <tr>\n",
       "      <th>6</th>\n",
       "      <td>of the film is to show what kids of that moment in time were doing , what mattered to them . xxmaj it shows that teenagers in general are good , all that mattered to these everyday kids was music , dancing and friendship . xxmaj having watched the xxup dvd recently i was xxunk surprised how well it had stood the test of time ! xxmaj the clothes did n't look</td>\n",
       "      <td>the film is to show what kids of that moment in time were doing , what mattered to them . xxmaj it shows that teenagers in general are good , all that mattered to these everyday kids was music , dancing and friendship . xxmaj having watched the xxup dvd recently i was xxunk surprised how well it had stood the test of time ! xxmaj the clothes did n't look dated</td>\n",
       "      <td>the xxunk 's xxunk be how happens are the day are the are doing . and is to them . xxmaj the 's that the are the are not , and of is to the kids kids is the , music , music . xxmaj the read this film dvd i i was xxunk to that much it was been for test of time . xxmaj the film and n't make like</td>\n",
       "    </tr>\n",
       "    <tr>\n",
       "      <th>7</th>\n",
       "      <td>. xxmaj there is xxunk and xxunk on both sides , and also the hope for change in the younger generation . \\n\\n xxmaj there is redemption of a sort , in the end , when xxmaj xxunk has to make a hard choice between a man who has ruined her life , but also truly loved her , and her family which has xxunk her , then later come looking for</td>\n",
       "      <td>xxmaj there is xxunk and xxunk on both sides , and also the hope for change in the younger generation . \\n\\n xxmaj there is redemption of a sort , in the end , when xxmaj xxunk has to make a hard choice between a man who has ruined her life , but also truly loved her , and her family which has xxunk her , then later come looking for her</td>\n",
       "      <td>xxmaj the are a xxunk xxunk in the sides . and the the xxunk for xxunk . the world generation . xxmaj xxmaj the is a of love xxunk of but fact end , where xxmaj xxunk xxmaj a xxunk a xxunk time with a man who has never her life and but she has xxunk her . and she mother is has never her and and her xxunk to for her</td>\n",
       "    </tr>\n",
       "    <tr>\n",
       "      <th>8</th>\n",
       "      <td>the deep freeze . mckenna had killed xxmaj wendt by biting a xxunk out of his neck . xxmaj now he feels he must destroy the evidence of his involvement in xxmaj wendt 's xxunk . ( what are the cops going to do , measure his bite xxunk ? ) mckenna xxunk xxmaj wendt 's head and neck from the freezer bag it 's in , takes an ax , and</td>\n",
       "      <td>deep freeze . mckenna had killed xxmaj wendt by biting a xxunk out of his neck . xxmaj now he feels he must destroy the evidence of his involvement in xxmaj wendt 's xxunk . ( what are the cops going to do , measure his bite xxunk ? ) mckenna xxunk xxmaj wendt 's head and neck from the freezer bag it 's in , takes an ax , and begins</td>\n",
       "      <td>xxmaj xxunk . xxmaj is a the dr by xxunk a xxunk over of his neck and xxmaj he he 's he 's have the xxunk of his xxunk in his jigsaw 's death . xxmaj he 's the victims going to do ) and his xxunk on ? ) xxmaj is his wendt 's head to legs in the head . . 's in . and a xxunk and and then</td>\n",
       "    </tr>\n",
       "    <tr>\n",
       "      <th>9</th>\n",
       "      <td>with my family , watching over my own father , xxunk in the xxup xxunk before he passed . \\n\\n xxmaj the episode begins with xxmaj tony in an alternate reality : he is a salesman who 's identity has been mistaken for that of a man named xxmaj kevin xxmaj xxunk . \\n\\n xxmaj by the time ten minutes had gone by , i knew either xxmaj tony was xxunk ,</td>\n",
       "      <td>my family , watching over my own father , xxunk in the xxup xxunk before he passed . \\n\\n xxmaj the episode begins with xxmaj tony in an alternate reality : he is a salesman who 's identity has been mistaken for that of a man named xxmaj kevin xxmaj xxunk . \\n\\n xxmaj by the time ten minutes had gone by , i knew either xxmaj tony was xxunk , or</td>\n",
       "      <td>xxmaj xxunk and i it the home father , i , the xxup u.s . he xxunk . xxmaj xxmaj the story is with xxmaj tony and a xxunk reality , he is xxunk xxunk who has been is been xxunk for a of his man who xxmaj xxunk xxmaj xxunk . xxmaj xxmaj the the time of minutes are gone , , i was that the tony xxmaj making or or</td>\n",
       "    </tr>\n",
       "  </tbody>\n",
       "</table>"
      ],
      "text/plain": [
       "<IPython.core.display.HTML object>"
      ]
     },
     "metadata": {},
     "output_type": "display_data"
    }
   ],
   "source": [
    "learn.show_results()"
   ]
  },
  {
   "cell_type": "code",
   "execution_count": null,
   "metadata": {},
   "outputs": [],
   "source": [
    "learn.save_encoder('enc1')"
   ]
  },
  {
   "cell_type": "markdown",
   "metadata": {},
   "source": [
    "## Use it to train a classifier"
   ]
  },
  {
   "cell_type": "markdown",
   "metadata": {},
   "source": [
    "For classification, we need to use two set of transforms: one to numericalize the texts and the other to encode the labels as categories."
   ]
  },
  {
   "cell_type": "code",
   "execution_count": null,
   "metadata": {},
   "outputs": [],
   "source": [
    "splits = RandomSplitter()(range_of(df_tok))\n",
    "dsrc = DataSource(df_tok, splits=splits, tfms=[\n",
    "    [attrgetter(\"text\"), Numericalize(vocab)],\n",
    "    [attrgetter(\"label\"), Categorize()]], dl_type=SortedDL)"
   ]
  },
  {
   "cell_type": "markdown",
   "metadata": {},
   "source": [
    "We opnce again use a subclass of `TfmdDL` for the dataloaders, since we want to sort the texts (sortish for the training set) by order of lengths. We also use `pad_collate` to create batches form texts of different lengths."
   ]
  },
  {
   "cell_type": "code",
   "execution_count": null,
   "metadata": {},
   "outputs": [],
   "source": [
    "dbunch = dsrc.databunch(before_batch=pad_input, after_batch=Cuda)"
   ]
  },
  {
   "cell_type": "code",
   "execution_count": null,
   "metadata": {},
   "outputs": [
    {
     "data": {
      "text/html": [
       "<table border=\"1\" class=\"dataframe\">\n",
       "  <thead>\n",
       "    <tr style=\"text-align: right;\">\n",
       "      <th></th>\n",
       "      <th>text</th>\n",
       "      <th>category</th>\n",
       "    </tr>\n",
       "  </thead>\n",
       "  <tbody>\n",
       "    <tr>\n",
       "      <th>0</th>\n",
       "      <td>xxbos xxmaj raising xxmaj victor xxmaj vargas : a xxmaj review \\n\\n xxmaj you know , xxmaj raising xxmaj victor xxmaj vargas is like sticking your hands into a big , xxunk bowl of xxunk . xxmaj it 's warm and gooey , but you 're not sure if it feels right . xxmaj try as i might , no matter how warm and gooey xxmaj raising xxmaj victor xxmaj vargas became i was always aware that something did n't quite feel right . xxmaj victor xxmaj vargas suffers from a certain xxunk on the director 's part . xxmaj apparently , the director thought that the ethnic backdrop of a xxmaj latino family on the lower east side , and an xxunk storyline would make the film critic proof . xxmaj he was right , but it did n't fool me . xxmaj raising xxmaj victor xxmaj vargas is</td>\n",
       "      <td>negative</td>\n",
       "    </tr>\n",
       "    <tr>\n",
       "      <th>1</th>\n",
       "      <td>xxbos xxup the xxup shop xxup around xxup the xxup corner is one of the xxunk and most feel - good romantic comedies ever made . xxmaj there 's just no getting around that , and it 's hard to actually put one 's feeling for this film into words . xxmaj it 's not one of those films that tries too hard , nor does it come up with the xxunk possible scenarios to get the two protagonists together in the end . xxmaj in fact , all its charm is xxunk , contained within the characters and the setting and the plot … which is highly believable to xxunk . xxmaj it 's easy to think that such a love story , as beautiful as any other ever told , * could * happen to you … a feeling you do n't often get from other romantic comedies</td>\n",
       "      <td>positive</td>\n",
       "    </tr>\n",
       "  </tbody>\n",
       "</table>"
      ],
      "text/plain": [
       "<IPython.core.display.HTML object>"
      ]
     },
     "metadata": {},
     "output_type": "display_data"
    }
   ],
   "source": [
    "dbunch.show_batch(max_n=2)"
   ]
  },
  {
   "cell_type": "markdown",
   "metadata": {},
   "source": [
    "Or with a factory method of `TextDataBunch`:"
   ]
  },
  {
   "cell_type": "code",
   "execution_count": null,
   "metadata": {},
   "outputs": [],
   "source": [
    "dbunch = TextDataBunch.from_df(df_tok, text_col=\"text\", text_vocab=vocab, label_col='label')"
   ]
  },
  {
   "cell_type": "markdown",
   "metadata": {},
   "source": [
    "Then we once again have a convenience function to create a classifier from this `DataBunch` with the `AWD_LSTM` architecture."
   ]
  },
  {
   "cell_type": "code",
   "execution_count": null,
   "metadata": {},
   "outputs": [],
   "source": [
    "learn = text_classifier_learner(dbunch, AWD_LSTM, metrics=[accuracy], path=path, opt_func=Adam, drop_mult=0.5)"
   ]
  },
  {
   "cell_type": "code",
   "execution_count": null,
   "metadata": {},
   "outputs": [],
   "source": [
    "learn = learn.load_encoder('enc1')"
   ]
  },
  {
   "cell_type": "markdown",
   "metadata": {},
   "source": [
    "Then we can train with gradual unfreezing and differential learning rates."
   ]
  },
  {
   "cell_type": "code",
   "execution_count": null,
   "metadata": {},
   "outputs": [
    {
     "data": {
      "text/html": [
       "<table border=\"1\" class=\"dataframe\">\n",
       "  <thead>\n",
       "    <tr style=\"text-align: left;\">\n",
       "      <th>epoch</th>\n",
       "      <th>train_loss</th>\n",
       "      <th>valid_loss</th>\n",
       "      <th>accuracy</th>\n",
       "      <th>time</th>\n",
       "    </tr>\n",
       "  </thead>\n",
       "  <tbody>\n",
       "    <tr>\n",
       "      <td>0</td>\n",
       "      <td>0.627347</td>\n",
       "      <td>0.444851</td>\n",
       "      <td>0.840000</td>\n",
       "      <td>00:10</td>\n",
       "    </tr>\n",
       "    <tr>\n",
       "      <td>1</td>\n",
       "      <td>0.564891</td>\n",
       "      <td>0.410152</td>\n",
       "      <td>0.825000</td>\n",
       "      <td>00:11</td>\n",
       "    </tr>\n",
       "    <tr>\n",
       "      <td>2</td>\n",
       "      <td>0.472728</td>\n",
       "      <td>0.367973</td>\n",
       "      <td>0.860000</td>\n",
       "      <td>00:10</td>\n",
       "    </tr>\n",
       "    <tr>\n",
       "      <td>3</td>\n",
       "      <td>0.429697</td>\n",
       "      <td>0.361784</td>\n",
       "      <td>0.845000</td>\n",
       "      <td>00:10</td>\n",
       "    </tr>\n",
       "  </tbody>\n",
       "</table>"
      ],
      "text/plain": [
       "<IPython.core.display.HTML object>"
      ]
     },
     "metadata": {},
     "output_type": "display_data"
    }
   ],
   "source": [
    "learn.fit_one_cycle(4, moms=(0.8,0.7,0.8))"
   ]
  },
  {
   "cell_type": "code",
   "execution_count": null,
   "metadata": {},
   "outputs": [
    {
     "data": {
      "text/html": [
       "<table border=\"1\" class=\"dataframe\">\n",
       "  <thead>\n",
       "    <tr style=\"text-align: left;\">\n",
       "      <th>epoch</th>\n",
       "      <th>train_loss</th>\n",
       "      <th>valid_loss</th>\n",
       "      <th>accuracy</th>\n",
       "      <th>time</th>\n",
       "    </tr>\n",
       "  </thead>\n",
       "  <tbody>\n",
       "    <tr>\n",
       "      <td>0</td>\n",
       "      <td>0.382893</td>\n",
       "      <td>0.351107</td>\n",
       "      <td>0.850000</td>\n",
       "      <td>00:17</td>\n",
       "    </tr>\n",
       "    <tr>\n",
       "      <td>1</td>\n",
       "      <td>0.396118</td>\n",
       "      <td>0.360789</td>\n",
       "      <td>0.845000</td>\n",
       "      <td>00:18</td>\n",
       "    </tr>\n",
       "    <tr>\n",
       "      <td>2</td>\n",
       "      <td>0.324209</td>\n",
       "      <td>0.432927</td>\n",
       "      <td>0.790000</td>\n",
       "      <td>00:16</td>\n",
       "    </tr>\n",
       "    <tr>\n",
       "      <td>3</td>\n",
       "      <td>0.287399</td>\n",
       "      <td>0.371246</td>\n",
       "      <td>0.815000</td>\n",
       "      <td>00:20</td>\n",
       "    </tr>\n",
       "    <tr>\n",
       "      <td>4</td>\n",
       "      <td>0.254755</td>\n",
       "      <td>0.375270</td>\n",
       "      <td>0.835000</td>\n",
       "      <td>00:19</td>\n",
       "    </tr>\n",
       "    <tr>\n",
       "      <td>5</td>\n",
       "      <td>0.238167</td>\n",
       "      <td>0.375107</td>\n",
       "      <td>0.850000</td>\n",
       "      <td>00:16</td>\n",
       "    </tr>\n",
       "    <tr>\n",
       "      <td>6</td>\n",
       "      <td>0.220819</td>\n",
       "      <td>0.405301</td>\n",
       "      <td>0.825000</td>\n",
       "      <td>00:16</td>\n",
       "    </tr>\n",
       "    <tr>\n",
       "      <td>7</td>\n",
       "      <td>0.215843</td>\n",
       "      <td>0.400871</td>\n",
       "      <td>0.835000</td>\n",
       "      <td>00:17</td>\n",
       "    </tr>\n",
       "  </tbody>\n",
       "</table>"
      ],
      "text/plain": [
       "<IPython.core.display.HTML object>"
      ]
     },
     "metadata": {},
     "output_type": "display_data"
    }
   ],
   "source": [
    "learn.unfreeze()\n",
    "learn.opt = learn.create_opt()\n",
    "learn.fit_one_cycle(8, slice(1e-5,1e-3), moms=(0.8,0.7,0.8))"
   ]
  },
  {
   "cell_type": "code",
   "execution_count": null,
   "metadata": {},
   "outputs": [
    {
     "data": {
      "text/html": [],
      "text/plain": [
       "<IPython.core.display.HTML object>"
      ]
     },
     "metadata": {},
     "output_type": "display_data"
    },
    {
     "data": {
      "text/html": [
       "<table border=\"1\" class=\"dataframe\">\n",
       "  <thead>\n",
       "    <tr style=\"text-align: right;\">\n",
       "      <th></th>\n",
       "      <th>text</th>\n",
       "      <th>category</th>\n",
       "      <th>category_</th>\n",
       "    </tr>\n",
       "  </thead>\n",
       "  <tbody>\n",
       "    <tr>\n",
       "      <th>0</th>\n",
       "      <td>xxbos xxmaj raising xxmaj victor xxmaj vargas : a xxmaj review \\n\\n xxmaj you know , xxmaj raising xxmaj victor xxmaj vargas is like sticking your hands into a big , xxunk bowl of xxunk . xxmaj it 's warm and gooey , but you 're not sure if it feels right . xxmaj try as i might , no matter how warm and gooey xxmaj raising xxmaj victor xxmaj vargas became i was always aware that something did n't quite feel right . xxmaj victor xxmaj vargas suffers from a certain xxunk on the director 's part . xxmaj apparently , the director thought that the ethnic backdrop of a xxmaj latino family on the lower east side , and an xxunk storyline would make the film critic proof . xxmaj he was right , but it did n't fool me . xxmaj raising xxmaj victor xxmaj vargas is</td>\n",
       "      <td>negative</td>\n",
       "      <td>negative</td>\n",
       "    </tr>\n",
       "    <tr>\n",
       "      <th>1</th>\n",
       "      <td>xxbos xxup the xxup shop xxup around xxup the xxup corner is one of the xxunk and most feel - good romantic comedies ever made . xxmaj there 's just no getting around that , and it 's hard to actually put one 's feeling for this film into words . xxmaj it 's not one of those films that tries too hard , nor does it come up with the xxunk possible scenarios to get the two protagonists together in the end . xxmaj in fact , all its charm is xxunk , contained within the characters and the setting and the plot … which is highly believable to xxunk . xxmaj it 's easy to think that such a love story , as beautiful as any other ever told , * could * happen to you … a feeling you do n't often get from other romantic comedies</td>\n",
       "      <td>positive</td>\n",
       "      <td>positive</td>\n",
       "    </tr>\n",
       "    <tr>\n",
       "      <th>2</th>\n",
       "      <td>xxbos xxmaj now that xxmaj che(2008 ) has finished its relatively short xxmaj australian cinema run ( extremely limited xxunk screen in xxmaj xxunk , after xxunk ) , i can xxunk join both xxunk of \" at xxmaj the xxmaj movies \" in taking xxmaj steven xxmaj soderbergh to task . \\n\\n xxmaj it 's usually satisfying to watch a film director change his style / subject , but xxmaj soderbergh 's most recent stinker , xxmaj the xxmaj girlfriend xxmaj xxunk ) , was also missing a story , so narrative ( and editing ? ) seem to suddenly be xxmaj soderbergh 's main challenge . xxmaj strange , after xxunk years in the business . xxmaj he was probably never much good at narrative , just xxunk it well inside \" edgy \" projects . \\n\\n xxmaj none of this excuses him this present , almost diabolical</td>\n",
       "      <td>negative</td>\n",
       "      <td>negative</td>\n",
       "    </tr>\n",
       "    <tr>\n",
       "      <th>3</th>\n",
       "      <td>xxbos xxmaj this film sat on my xxmaj xxunk for weeks before i watched it . i xxunk a self - indulgent xxunk flick about relationships gone bad . i was wrong ; this was an xxunk xxunk into the screwed - up xxunk of xxmaj new xxmaj xxunk . \\n\\n xxmaj the format is the same as xxmaj max xxmaj xxunk ' \" la xxmaj xxunk , \" based on a play by xxmaj arthur xxmaj xxunk , who is given an \" inspired by \" credit . xxmaj it starts from one person , a prostitute , standing on a street corner in xxmaj brooklyn . xxmaj she is picked up by a home contractor , who has sex with her on the hood of a car , but ca n't come . xxmaj he refuses to pay her . xxmaj when he 's off xxunk , she</td>\n",
       "      <td>positive</td>\n",
       "      <td>positive</td>\n",
       "    </tr>\n",
       "    <tr>\n",
       "      <th>4</th>\n",
       "      <td>xxbos xxmaj many neglect that this is n't just a classic due to the fact that it 's the first 3d game , or even the first xxunk - up . xxmaj it 's also one of the first xxunk games , one of the xxunk definitely the first ) truly claustrophobic games , and just a pretty well - xxunk gaming experience in general . xxmaj with graphics that are terribly dated today , the game xxunk you into the role of xxunk even * think * xxmaj i 'm going to attempt spelling his last name ! ) , an xxmaj american xxup xxunk . caught in an underground bunker . xxmaj you fight and search your way through xxunk in order to achieve different xxunk for the six xxunk , let 's face it , most of them are just an excuse to hand you a weapon</td>\n",
       "      <td>positive</td>\n",
       "      <td>positive</td>\n",
       "    </tr>\n",
       "  </tbody>\n",
       "</table>"
      ],
      "text/plain": [
       "<IPython.core.display.HTML object>"
      ]
     },
     "metadata": {},
     "output_type": "display_data"
    }
   ],
   "source": [
    "learn.show_results(max_n=5)"
   ]
  },
  {
   "cell_type": "code",
   "execution_count": null,
   "metadata": {},
   "outputs": [],
   "source": [
    "from fastai2.interpret import *"
   ]
  },
  {
   "cell_type": "code",
   "execution_count": null,
   "metadata": {},
   "outputs": [
    {
     "data": {
      "text/html": [],
      "text/plain": [
       "<IPython.core.display.HTML object>"
      ]
     },
     "metadata": {},
     "output_type": "display_data"
    }
   ],
   "source": [
    "interp = Interpretation.from_learner(learn)"
   ]
  },
  {
   "cell_type": "code",
   "execution_count": null,
   "metadata": {},
   "outputs": [
    {
     "data": {
      "text/html": [
       "<table border=\"1\" class=\"dataframe\">\n",
       "  <thead>\n",
       "    <tr style=\"text-align: right;\">\n",
       "      <th></th>\n",
       "      <th>input</th>\n",
       "      <th>target</th>\n",
       "      <th>predicted</th>\n",
       "      <th>probability</th>\n",
       "      <th>loss</th>\n",
       "    </tr>\n",
       "  </thead>\n",
       "  <tbody>\n",
       "    <tr>\n",
       "      <th>0</th>\n",
       "      <td>xxbos xxmaj over xxmaj her xxmaj dead xxmaj body was a nice little xxunk was decent and entertaining , while still being pretty xxunk were a few cliché 's , but i found most stuff xxunk first i did n't think it was going to be good at all , when it started xxunk you can get past the first 20 minutes though , the movie starts getting more xxunk film was n't burst out in laughter hilarious , and was n't xxup oh xxup my xxup xxunk xxunk was just a movie that you can sit down and enjoy for how enjoyable it xxunk do n't see how this movie was xxunk rating is just a bit too xxunk could 've dealt with a xxunk a xxunk , giving this movie a 1 is xxunk was pretty good , and there was nothing horrible enough about it to give</td>\n",
       "      <td>positive</td>\n",
       "      <td>negative</td>\n",
       "      <td>0.9911274313926697</td>\n",
       "      <td>4.724791526794434</td>\n",
       "    </tr>\n",
       "    <tr>\n",
       "      <th>1</th>\n",
       "      <td>xxbos xxmaj not sure if it was right or wrong , but i read thru the other comments before watching the xxunk have to say i disagree with most of the negative comments or problems people have had with it . \\n\\n xxmaj as a first time \" lone xxmaj wolf \" director / producer , i like to see things that i can xxunk to , not necessarily from the pro 's , but by people just getting their feet wet like me . \\n\\n xxmaj if indeed this is also from a first - xxunk , as i read , i applaud the xxunk job then in that respect ! xxmaj there were some comments about the xxunk thought it was quite nice for the xxunk say it kind of xxunk along for a while , but i found that created tension xxunk being xxunk of it ,</td>\n",
       "      <td>positive</td>\n",
       "      <td>negative</td>\n",
       "      <td>0.989062488079071</td>\n",
       "      <td>4.515562057495117</td>\n",
       "    </tr>\n",
       "    <tr>\n",
       "      <th>2</th>\n",
       "      <td>xxbos xxmaj of life in ( some ) colleges . xxmaj of course there were artistic xxunk taken , but some of what you saw in this film go on in some colleges . \\n\\n i went to colleges in xxmaj southern xxmaj california where the xxunk pretty much hang around with their own . xxmaj it 's funny because these are schools that want racial xxunk , equality etc . and i can honestly say , that it 's there . xxmaj but the thing is when class lets out , or when they 're just hanging out waiting for class , they ( students ) seem to just hang around with people of their own race or ethnicity . xxmaj is that bad ? xxmaj not really . xxmaj everyone needs a feeling of belonging . xxmaj but like the school paper of one of the schools i</td>\n",
       "      <td>positive</td>\n",
       "      <td>negative</td>\n",
       "      <td>0.9781860709190369</td>\n",
       "      <td>3.8252058029174805</td>\n",
       "    </tr>\n",
       "    <tr>\n",
       "      <th>3</th>\n",
       "      <td>xxbos i ca nt help it but i seem to like films that are meant to be scary and are just plain bad . i have personally listed it in my own top 10 worst movies right under creatures of the xxunk xxmaj watch this film and have a laugh just do n't expect to see any academy awards for acting . xxmaj more chance of understanding the film its self . xxmaj in all honesty though i have seen much worse than this . xxmaj plus some xxunk xxunk round the desert xxunk the same people out that just died is that unbelievable that its got to be original . i think its one of those love or hate movies . you can make up your own mind yes its awful but it pulls it off somehow that s why i love it</td>\n",
       "      <td>negative</td>\n",
       "      <td>positive</td>\n",
       "      <td>0.9513773322105408</td>\n",
       "      <td>3.0236663818359375</td>\n",
       "    </tr>\n",
       "    <tr>\n",
       "      <th>4</th>\n",
       "      <td>xxbos xxmaj like xxmaj tarzan the xxmaj ape xxmaj man ( 1932 ) , only more so . xxmaj there 's more of everything , more animals , more varied xxmaj african tribes , and scenes in which the thought must be , if this was good with three or four lions , forty would be better . xxmaj tarzan xxunk with xxunk the crocodile machine xxunk in the water like a rolling pin , around and around , jaws xxunk . xxmaj tarzan can kill it with his xxunk knife if the xxunk xxunk would hold still . xxmaj tarzan kills lions and xxunk and a xxunk xxunk number of animals . xxmaj his friends are real xxunk , people wearing larger ape costumes , and xxunk . xxmaj in fact , they use xxmaj indian xxunk more friendly and xxunk than xxmaj african xxunk costume ears attached to</td>\n",
       "      <td>positive</td>\n",
       "      <td>negative</td>\n",
       "      <td>0.9405072331428528</td>\n",
       "      <td>2.821899890899658</td>\n",
       "    </tr>\n",
       "    <tr>\n",
       "      <th>5</th>\n",
       "      <td>xxbos xxmaj this is yet another bad movie that you should probably avoid watching . xxmaj the plot could be a lot \" xxunk \" than it actually is and would be better made as a blockbuster type movie . \\n\\n xxmaj the acting leaves something to be desired , though you can not quite place your finger on what it is . \\n\\n xxmaj this is one of those that you watch on late night xxup tv , perhaps on xxup usa , simply because you can not get to sleep . xxmaj watch it if you want but do not expect too much from it .</td>\n",
       "      <td>negative</td>\n",
       "      <td>positive</td>\n",
       "      <td>0.9324377179145813</td>\n",
       "      <td>2.6947054862976074</td>\n",
       "    </tr>\n",
       "  </tbody>\n",
       "</table>"
      ],
      "text/plain": [
       "<IPython.core.display.HTML object>"
      ]
     },
     "metadata": {},
     "output_type": "display_data"
    }
   ],
   "source": [
    "interp.plot_top_losses(6)"
   ]
  },
  {
   "cell_type": "code",
   "execution_count": null,
   "metadata": {},
   "outputs": [],
   "source": []
  }
 ],
 "metadata": {
  "kernelspec": {
   "display_name": "Python 3",
   "language": "python",
   "name": "python3"
  }
 },
 "nbformat": 4,
 "nbformat_minor": 2
}
