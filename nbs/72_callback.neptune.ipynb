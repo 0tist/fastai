{
 "cells": [
  {
   "cell_type": "code",
   "execution_count": null,
   "metadata": {},
   "outputs": [],
   "source": [
    "#export\n",
    "import os\n",
    "import uuid\n",
    "from fastai2.basics import *\n",
    "from fastai2.learner import Callback"
   ]
  },
  {
   "cell_type": "code",
   "execution_count": null,
   "metadata": {},
   "outputs": [],
   "source": [
    "from nbdev.showdoc import *"
   ]
  },
  {
   "cell_type": "code",
   "execution_count": null,
   "metadata": {},
   "outputs": [],
   "source": [
    "#default_exp callback.neptune"
   ]
  },
  {
   "cell_type": "markdown",
   "metadata": {},
   "source": [
    "# Neptune.ai\n",
    "\n",
    "> Integration with [neptune.ai](https://www.neptune.ai)"
   ]
  },
  {
   "cell_type": "markdown",
   "metadata": {},
   "source": [
    "First thing first.\n",
    "\n",
    "1. You need to install neptune-client. In your terminal run:\n",
    "\n",
    "```\n",
    "pip install neptune-client\n",
    "```\n",
    "\n",
    "or (alternative installation using conda). In your terminal run:\n",
    "\n",
    "```\n",
    "conda install neptune-client -c conda-forge\n",
    "```\n",
    "\n",
    "2. Create **free** account: [neptune.ai/register](https://neptune.ai/register).\n",
    "3. Export API token to the environment variable (more help [here](https://docs.neptune.ai/python-api/tutorials/get-started.html#copy-api-token)). In your terminal run:\n",
    "\n",
    "```\n",
    "export NEPTUNE_API_TOKEN='YOUR_LONG_API_TOKEN'\n",
    "```\n",
    "\n",
    "or append the command above to your `~/.bashrc` or `~/.bash_profile` files (**recommended**). More help is [here](https://docs.neptune.ai/python-api/tutorials/get-started.html#copy-api-token)."
   ]
  },
  {
   "cell_type": "markdown",
   "metadata": {},
   "source": [
    "## How to use?\n",
    "Key is to call `neptune.init()` before you create `Learner()` and call `neptune_create_experiment()`, before you fit the model.\n",
    "\n",
    "Use `NeptuneCallback` in your `Learner`, like this:\n",
    "\n",
    "```\n",
    "from fastai2.callback.neptune import NeptuneCallback\n",
    "\n",
    "neptune.init('USERNAME/PROJECT_NAME')  # specify project\n",
    "\n",
    "learn = Learner(dls, model,\n",
    "                cbs=NeptuneCallback()\n",
    "                )\n",
    "\n",
    "neptune.create_experiment()  # start experiment\n",
    "learn.fit_one_cycle(1)\n",
    "```"
   ]
  },
  {
   "cell_type": "code",
   "execution_count": null,
   "metadata": {},
   "outputs": [],
   "source": [
    "#export\n",
    "import neptune"
   ]
  },
  {
   "cell_type": "code",
   "execution_count": null,
   "metadata": {},
   "outputs": [],
   "source": [
    "#export\n",
    "class NeptuneCallback(Callback):\n",
    "    \"Log losses, metrics, model weights\"\n",
    "    def __init__(self, save_model=True, log_preds=True, n_preds=15):\n",
    "        self.neptune_save_model = save_model\n",
    "        self.log_preds = log_preds\n",
    "        self.n_preds = n_preds\n",
    "        self.model_summary_name = 'model_summary_{}.txt'.format(str(uuid.uuid1())[:8])\n",
    "        self.neptune_exp = None\n",
    "\n",
    "        if neptune.project is None:\n",
    "            raise ValueError('You did not initialize project in neptune.\\n',\n",
    "                             'Please invoke `neptune.init(\"USERNAME/PROJECT_NAME\")` before this callback.')\n",
    "\n",
    "    def begin_fit(self):\n",
    "        try:\n",
    "            self.neptune_exp = neptune.get_experiment()\n",
    "        except ValueError:\n",
    "            print('No active experiment. Please invoke `neptune.create_experiment()` before this callback.')\n",
    "\n",
    "        try:\n",
    "            self.neptune_exp.set_property('n_epoch', str(self.learn.n_epoch))\n",
    "            self.neptune_exp.set_property('model_class', str(type(self.learn.model)))\n",
    "        except:\n",
    "            print('Did not log all properties. Check properties in the {}.'.format(neptune.get_experiment()))\n",
    "\n",
    "        try:\n",
    "            with open(self.model_summary_name, 'w') as f:\n",
    "                f.write(repr(self.learn.model))\n",
    "            self.neptune_exp.log_artifact(self.model_summary_name, 'model_summary.txt')\n",
    "            os.remove(self.model_summary_name)\n",
    "        except:\n",
    "            print('Did not log model summary. Check if your model is PyTorch model.')\n",
    "\n",
    "        if self.neptune_save_model and not hasattr(self.learn, 'save_model'):\n",
    "            print('Unable to log model to Neptune.\\n',\n",
    "                  'Use \"SaveModelCallback\" to save model checkpoints that will be logged to Neptune.')\n",
    "\n",
    "    def after_batch(self):\n",
    "        self.neptune_exp.set_property('n_iter', str(self.learn.n_iter))\n",
    "        if self.learn.training:\n",
    "            self.neptune_exp.log_metric('batch__smooth_loss', self.learn.smooth_loss)\n",
    "            self.neptune_exp.log_metric('batch__train_iter', self.learn.train_iter)\n",
    "            for i, h in enumerate(self.learn.opt.hypers):\n",
    "                for k, v in h.items():\n",
    "                    self.neptune_exp.log_metric('batch__opt.hypers.{}'.format(k), v)\n",
    "\n",
    "    def after_epoch(self):\n",
    "        # log metrics\n",
    "        for n, v in zip(self.learn.recorder.metric_names, self.learn.recorder.log):\n",
    "            if n not in ['epoch', 'time']:\n",
    "                self.neptune_exp.log_metric('epoch__{}'.format(n), v)\n",
    "            if n == 'time':\n",
    "                self.neptune_exp.log_text('epoch__{}'.format(n), str(v))\n",
    "\n",
    "        # log model weights\n",
    "        if self.neptune_save_model and hasattr(self.learn, 'save_model'):\n",
    "            if self.learn.save_model.every_epoch:\n",
    "                _file = join_path_file('{}_{}'.format(self.learn.save_model.fname, self.learn.save_model.epoch),\n",
    "                                       self.learn.path / self.learn.model_dir,\n",
    "                                       ext='.pth')\n",
    "            else:\n",
    "                _file = join_path_file(self.learn.save_model.fname,\n",
    "                                       self.learn.path / self.learn.model_dir,\n",
    "                                       ext='.pth')\n",
    "            self.neptune_exp.log_artifact(_file)\n",
    "\n",
    "    def after_fit(self):\n",
    "        try:\n",
    "            self.neptune_exp.stop()\n",
    "        except:\n",
    "            print('No neptune experiment to stop.')\n"
   ]
  }
 ],
 "metadata": {
  "kernelspec": {
   "display_name": "Python 3",
   "language": "python",
   "name": "python3"
  },
  "language_info": {
   "codemirror_mode": {
    "name": "ipython",
    "version": 3
   },
   "file_extension": ".py",
   "mimetype": "text/x-python",
   "name": "python",
   "nbconvert_exporter": "python",
   "pygments_lexer": "ipython3",
   "version": "3.7.6"
  }
 },
 "nbformat": 4,
 "nbformat_minor": 4
}
