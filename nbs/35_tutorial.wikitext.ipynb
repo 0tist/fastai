{
 "cells": [
  {
   "cell_type": "code",
   "execution_count": null,
   "metadata": {},
   "outputs": [],
   "source": [
    "from fastai2.basics import *\n",
    "from fastai2.callback.all import *\n",
    "from fastai2.text.all import *"
   ]
  },
  {
   "cell_type": "code",
   "execution_count": null,
   "metadata": {},
   "outputs": [],
   "source": [
    "# all_slow"
   ]
  },
  {
   "cell_type": "markdown",
   "metadata": {},
   "source": [
    "# Integration test on Wikitext-2\n",
    "\n",
    "> Training a Language Model on WT2"
   ]
  },
  {
   "cell_type": "markdown",
   "metadata": {},
   "source": [
    "## Data"
   ]
  },
  {
   "cell_type": "code",
   "execution_count": null,
   "metadata": {},
   "outputs": [],
   "source": [
    "path = untar_data(URLs.WIKITEXT_TINY)"
   ]
  },
  {
   "cell_type": "markdown",
   "metadata": {},
   "source": [
    "The dataset comes with the articles in two csv files, so we read it and concatenate them in one dataframe."
   ]
  },
  {
   "cell_type": "code",
   "execution_count": null,
   "metadata": {},
   "outputs": [],
   "source": [
    "df_train = pd.read_csv(path/'train.csv', header=None)\n",
    "df_valid = pd.read_csv(path/'test.csv', header=None)\n",
    "df_all = pd.concat([df_train, df_valid])"
   ]
  },
  {
   "cell_type": "code",
   "execution_count": null,
   "metadata": {},
   "outputs": [
    {
     "data": {
      "text/html": [
       "<div>\n",
       "<style scoped>\n",
       "    .dataframe tbody tr th:only-of-type {\n",
       "        vertical-align: middle;\n",
       "    }\n",
       "\n",
       "    .dataframe tbody tr th {\n",
       "        vertical-align: top;\n",
       "    }\n",
       "\n",
       "    .dataframe thead th {\n",
       "        text-align: right;\n",
       "    }\n",
       "</style>\n",
       "<table border=\"1\" class=\"dataframe\">\n",
       "  <thead>\n",
       "    <tr style=\"text-align: right;\">\n",
       "      <th></th>\n",
       "      <th>0</th>\n",
       "    </tr>\n",
       "  </thead>\n",
       "  <tbody>\n",
       "    <tr>\n",
       "      <td>0</td>\n",
       "      <td>\\n = 2013 – 14 York City F.C. season = \\n \\n The 2013 – 14 season was the &lt;unk&gt; season of competitive association football and 77th season in the Football League played by York City Football Club , a professional football club based in York , North Yorkshire , England . Their 17th @-@ place finish in 2012 – 13 meant it was their second consecutive season in League Two . The season ran from 1 July 2013 to 30 June 2014 . \\n Nigel Worthington , starting his first full season as York manager , made eight permanent summer signings . By the turn of the year York were only above the relegation z...</td>\n",
       "    </tr>\n",
       "    <tr>\n",
       "      <td>1</td>\n",
       "      <td>\\n = Big Boy ( song ) = \\n \\n \" Big Boy \" &lt;unk&gt; \" I 'm A Big Boy Now \" was the first single ever recorded by the Jackson 5 , which was released by Steeltown Records in January 1968 . The group played instruments on many of their Steeltown compositions , including \" Big Boy \" . The song was neither a critical nor commercial success , but the Jackson family were delighted with the outcome nonetheless . \\n The Jackson 5 would release a second single with Steeltown Records before moving to Motown Records . The group 's recordings at Steeltown Records were thought to be lost , but they were re...</td>\n",
       "    </tr>\n",
       "    <tr>\n",
       "      <td>2</td>\n",
       "      <td>\\n = The Remix ( Lady Gaga album ) = \\n \\n The Remix is a remix album by American recording artist Lady Gaga . Released in Japan on March 3 , 2010 , it contains remixes of the songs from her first studio album , The Fame ( 2008 ) , and her third extended play , The Fame Monster ( 2009 ) . A revised version of the track list was prepared for release in additional markets , beginning with Mexico on May 3 , 2010 . A number of recording artists have produced the songs , including Pet Shop Boys , Passion Pit and The Sound of Arrows . The remixed versions feature both uptempo and &lt;unk&gt; composit...</td>\n",
       "    </tr>\n",
       "    <tr>\n",
       "      <td>3</td>\n",
       "      <td>\\n = New Year 's Eve ( Up All Night ) = \\n \\n \" New Year 's Eve \" is the twelfth episode of the first season of the American comedy television series Up All Night . The episode originally aired on NBC in the United States on January 12 , 2012 . It was written by Erica &lt;unk&gt; and was directed by Beth McCarthy @-@ Miller . The episode also featured a guest appearance from Jason Lee as Chris and Reagan 's neighbor and Ava 's boyfriend , Kevin . \\n During Reagan ( Christina Applegate ) and Chris 's ( Will &lt;unk&gt; ) first New Year 's Eve game night , Reagan 's competitiveness comes out causing Ch...</td>\n",
       "    </tr>\n",
       "    <tr>\n",
       "      <td>4</td>\n",
       "      <td>\\n = Geopyxis carbonaria = \\n \\n Geopyxis carbonaria is a species of fungus in the genus Geopyxis , family &lt;unk&gt; . First described to science in 1805 , and given its current name in 1889 , the species is commonly known as the charcoal loving elf @-@ cup , dwarf &lt;unk&gt; cup , &lt;unk&gt; &lt;unk&gt; cup , or pixie cup . The small , &lt;unk&gt; @-@ shaped fruitbodies of the fungus are reddish @-@ brown with a whitish fringe and measure up to 2 cm ( 0 @.@ 8 in ) across . They have a short , tapered stalk . Fruitbodies are commonly found on soil where brush has recently been burned , sometimes in great numbers ....</td>\n",
       "    </tr>\n",
       "  </tbody>\n",
       "</table>\n",
       "</div>"
      ],
      "text/plain": [
       "                                                                                                                                                                                                                                                                                                                                                                                                                                                                                                                                                                                                                         0\n",
       "0   \\n = 2013 – 14 York City F.C. season = \\n \\n The 2013 – 14 season was the <unk> season of competitive association football and 77th season in the Football League played by York City Football Club , a professional football club based in York , North Yorkshire , England . Their 17th @-@ place finish in 2012 – 13 meant it was their second consecutive season in League Two . The season ran from 1 July 2013 to 30 June 2014 . \\n Nigel Worthington , starting his first full season as York manager , made eight permanent summer signings . By the turn of the year York were only above the relegation z...\n",
       "1   \\n = Big Boy ( song ) = \\n \\n \" Big Boy \" <unk> \" I 'm A Big Boy Now \" was the first single ever recorded by the Jackson 5 , which was released by Steeltown Records in January 1968 . The group played instruments on many of their Steeltown compositions , including \" Big Boy \" . The song was neither a critical nor commercial success , but the Jackson family were delighted with the outcome nonetheless . \\n The Jackson 5 would release a second single with Steeltown Records before moving to Motown Records . The group 's recordings at Steeltown Records were thought to be lost , but they were re...\n",
       "2   \\n = The Remix ( Lady Gaga album ) = \\n \\n The Remix is a remix album by American recording artist Lady Gaga . Released in Japan on March 3 , 2010 , it contains remixes of the songs from her first studio album , The Fame ( 2008 ) , and her third extended play , The Fame Monster ( 2009 ) . A revised version of the track list was prepared for release in additional markets , beginning with Mexico on May 3 , 2010 . A number of recording artists have produced the songs , including Pet Shop Boys , Passion Pit and The Sound of Arrows . The remixed versions feature both uptempo and <unk> composit...\n",
       "3   \\n = New Year 's Eve ( Up All Night ) = \\n \\n \" New Year 's Eve \" is the twelfth episode of the first season of the American comedy television series Up All Night . The episode originally aired on NBC in the United States on January 12 , 2012 . It was written by Erica <unk> and was directed by Beth McCarthy @-@ Miller . The episode also featured a guest appearance from Jason Lee as Chris and Reagan 's neighbor and Ava 's boyfriend , Kevin . \\n During Reagan ( Christina Applegate ) and Chris 's ( Will <unk> ) first New Year 's Eve game night , Reagan 's competitiveness comes out causing Ch...\n",
       "4   \\n = Geopyxis carbonaria = \\n \\n Geopyxis carbonaria is a species of fungus in the genus Geopyxis , family <unk> . First described to science in 1805 , and given its current name in 1889 , the species is commonly known as the charcoal loving elf @-@ cup , dwarf <unk> cup , <unk> <unk> cup , or pixie cup . The small , <unk> @-@ shaped fruitbodies of the fungus are reddish @-@ brown with a whitish fringe and measure up to 2 cm ( 0 @.@ 8 in ) across . They have a short , tapered stalk . Fruitbodies are commonly found on soil where brush has recently been burned , sometimes in great numbers ...."
      ]
     },
     "execution_count": null,
     "metadata": {},
     "output_type": "execute_result"
    }
   ],
   "source": [
    "df_all.head()"
   ]
  },
  {
   "cell_type": "markdown",
   "metadata": {},
   "source": [
    "We could tokenize it based on spaces to compare (as is usually done) but here we'll use the standard fastai tokenizer."
   ]
  },
  {
   "cell_type": "code",
   "execution_count": null,
   "metadata": {},
   "outputs": [
    {
     "data": {
      "text/html": [],
      "text/plain": [
       "<IPython.core.display.HTML object>"
      ]
     },
     "metadata": {},
     "output_type": "display_data"
    }
   ],
   "source": [
    "splits = [list(range_of(df_train)), list(range(len(df_train), len(df_all)))]\n",
    "tfms = [attrgetter(\"text\"), Tokenizer.from_df(0), Numericalize()]\n",
    "dsrc = DataSource(df_all, [tfms], splits=splits, dl_type=LMDataLoader)"
   ]
  },
  {
   "cell_type": "code",
   "execution_count": null,
   "metadata": {},
   "outputs": [],
   "source": [
    "bs,sl = 104,72\n",
    "dbch = dsrc.databunch(bs=bs, seq_len=sl)"
   ]
  },
  {
   "cell_type": "code",
   "execution_count": null,
   "metadata": {},
   "outputs": [
    {
     "data": {
      "text/html": [
       "<table border=\"1\" class=\"dataframe\">\n",
       "  <thead>\n",
       "    <tr style=\"text-align: right;\">\n",
       "      <th></th>\n",
       "      <th>text</th>\n",
       "      <th>text_</th>\n",
       "    </tr>\n",
       "  </thead>\n",
       "  <tbody>\n",
       "    <tr>\n",
       "      <th>0</th>\n",
       "      <td>xxbos = xxmaj ernie xxmaj cooksey = \\n▁\\n▁ xxmaj ernest xxmaj george xxmaj cooksey ( 11 xxmaj june 1980 – 3 xxmaj july 2008 ) was an xxmaj english footballer , who was described as a utility player . xxmaj he could play as a left - sided defender and midfielder as well as in a central - midfield role . xxmaj he started as a trainee with xxmaj colchester xxmaj united</td>\n",
       "      <td>= xxmaj ernie xxmaj cooksey = \\n▁\\n▁ xxmaj ernest xxmaj george xxmaj cooksey ( 11 xxmaj june 1980 – 3 xxmaj july 2008 ) was an xxmaj english footballer , who was described as a utility player . xxmaj he could play as a left - sided defender and midfielder as well as in a central - midfield role . xxmaj he started as a trainee with xxmaj colchester xxmaj united ,</td>\n",
       "    </tr>\n",
       "    <tr>\n",
       "      <th>1</th>\n",
       "      <td>planet , the probes discovered its magnetosphere and its largely fluid interior . xxmaj the xxmaj voyager 1 and xxmaj voyager 2 probes visited the planet in 1979 , and studied its moons and the ring system , discovering the volcanic activity of xxmaj io and the presence of water ice on the surface of xxmaj europa . xxmaj ulysses further studied xxmaj jupiter 's magnetosphere in 1992 and then again in</td>\n",
       "      <td>, the probes discovered its magnetosphere and its largely fluid interior . xxmaj the xxmaj voyager 1 and xxmaj voyager 2 probes visited the planet in 1979 , and studied its moons and the ring system , discovering the volcanic activity of xxmaj io and the presence of water ice on the surface of xxmaj europa . xxmaj ulysses further studied xxmaj jupiter 's magnetosphere in 1992 and then again in 2</td>\n",
       "    </tr>\n",
       "    <tr>\n",
       "      <th>2</th>\n",
       "      <td>hotel xxmaj administration , and the xxmaj american xxmaj institute of xxmaj wine &amp; xxmaj food . xxmaj in 1993 , xxmaj robert xxmaj mondavi bought and donated the land for xxmaj copia for $ 1.2 million ( $ xxunk million today ) , followed by a lead gift of $ 20 million ( $ xxunk million today ) . xxmaj mondavi chose the downtown xxmaj napa location with urging from his</td>\n",
       "      <td>xxmaj administration , and the xxmaj american xxmaj institute of xxmaj wine &amp; xxmaj food . xxmaj in 1993 , xxmaj robert xxmaj mondavi bought and donated the land for xxmaj copia for $ 1.2 million ( $ xxunk million today ) , followed by a lead gift of $ 20 million ( $ xxunk million today ) . xxmaj mondavi chose the downtown xxmaj napa location with urging from his wife</td>\n",
       "    </tr>\n",
       "    <tr>\n",
       "      <th>3</th>\n",
       "      <td>xxmaj war xxup i. xxmaj birkin soon fits into the slow - paced life of the remote village , and over the course of the summer uncovering the painting begins to lose his trauma - induced xxunk and xxunk . \\n▁ xxmaj in particular , he forms a close friendship with archaeologist xxmaj james xxmaj moon ( xxmaj kenneth xxmaj branagh ) , another veteran , who like xxmaj birkin has been</td>\n",
       "      <td>war xxup i. xxmaj birkin soon fits into the slow - paced life of the remote village , and over the course of the summer uncovering the painting begins to lose his trauma - induced xxunk and xxunk . \\n▁ xxmaj in particular , he forms a close friendship with archaeologist xxmaj james xxmaj moon ( xxmaj kenneth xxmaj branagh ) , another veteran , who like xxmaj birkin has been emotionally</td>\n",
       "    </tr>\n",
       "    <tr>\n",
       "      <th>4</th>\n",
       "      <td>xxmaj leader of the xxmaj nation . \" \\n▁\\n▁ = = xxmaj death and aftermath = = \\n▁\\n▁\\n▁ = = = xxmaj death = = = \\n▁\\n▁ xxmaj although xxmaj perón had undergone a xxunk performed by the xxmaj american surgeon xxmaj george xxup t. xxmaj pack , the cancer had xxunk and returned rapidly . xxmaj she was the first xxmaj argentine to undergo chemotherapy ( a novel treatment at that</td>\n",
       "      <td>leader of the xxmaj nation . \" \\n▁\\n▁ = = xxmaj death and aftermath = = \\n▁\\n▁\\n▁ = = = xxmaj death = = = \\n▁\\n▁ xxmaj although xxmaj perón had undergone a xxunk performed by the xxmaj american surgeon xxmaj george xxup t. xxmaj pack , the cancer had xxunk and returned rapidly . xxmaj she was the first xxmaj argentine to undergo chemotherapy ( a novel treatment at that time</td>\n",
       "    </tr>\n",
       "    <tr>\n",
       "      <th>5</th>\n",
       "      <td>1940s the company bought xxmaj grand xxunk xxmaj bellevue in ålesund , and later operated xxunk xxmaj tourist xxmaj hotel for a short period . xxmaj in 1952 , xxmaj oslo xxmaj municipality 's xxmaj viking xxmaj hotel was completed , and xxmaj spisevognselskapet was selected as the operator . xxmaj it remained the hotel 's operator until 1976 when the government sold it to xxunk , which outbid xxmaj spisevognselskapet by</td>\n",
       "      <td>the company bought xxmaj grand xxunk xxmaj bellevue in ålesund , and later operated xxunk xxmaj tourist xxmaj hotel for a short period . xxmaj in 1952 , xxmaj oslo xxmaj municipality 's xxmaj viking xxmaj hotel was completed , and xxmaj spisevognselskapet was selected as the operator . xxmaj it remained the hotel 's operator until 1976 when the government sold it to xxunk , which outbid xxmaj spisevognselskapet by several</td>\n",
       "    </tr>\n",
       "    <tr>\n",
       "      <th>6</th>\n",
       "      <td>conviction , whether the prosecutor improperly attempted to reduce jurors ' sense of responsibility by telling them that a guilty verdict would be subsequently xxunk and subject to appeal ; and \\n▁ in relation to post - conviction review hearings in 1995 – 6 , whether the presiding judge , who had also presided at the trial , demonstrated unacceptable bias in his conduct . \\n▁ xxmaj the xxmaj third xxmaj circuit</td>\n",
       "      <td>, whether the prosecutor improperly attempted to reduce jurors ' sense of responsibility by telling them that a guilty verdict would be subsequently xxunk and subject to appeal ; and \\n▁ in relation to post - conviction review hearings in 1995 – 6 , whether the presiding judge , who had also presided at the trial , demonstrated unacceptable bias in his conduct . \\n▁ xxmaj the xxmaj third xxmaj circuit xxmaj</td>\n",
       "    </tr>\n",
       "    <tr>\n",
       "      <th>7</th>\n",
       "      <td>the colonists many rights , including the rights to taxation without representation . xxmaj however , upon learning of the constitution , xxmaj james xxup ii declared it void . \\n▁ xxmaj when the xxmaj duke of xxmaj york became xxmaj king xxmaj james xxup ii of xxmaj england , xxmaj new xxmaj york became a royal province . xxmaj in xxmaj may 1688 the province briefly became part of the xxmaj</td>\n",
       "      <td>colonists many rights , including the rights to taxation without representation . xxmaj however , upon learning of the constitution , xxmaj james xxup ii declared it void . \\n▁ xxmaj when the xxmaj duke of xxmaj york became xxmaj king xxmaj james xxup ii of xxmaj england , xxmaj new xxmaj york became a royal province . xxmaj in xxmaj may 1688 the province briefly became part of the xxmaj dominion</td>\n",
       "    </tr>\n",
       "    <tr>\n",
       "      <th>8</th>\n",
       "      <td>zweig xxunk the roots of xxmaj marge 's fear : the moment she realized her father was not a pilot , but an apron - wearing flight attendant , a job that was mostly reserved for women at the time . xxmaj her shame is eased when xxmaj zweig assures her that male flight attendants are now very common and that her father could be considered a pioneer . xxmaj marge also</td>\n",
       "      <td>xxunk the roots of xxmaj marge 's fear : the moment she realized her father was not a pilot , but an apron - wearing flight attendant , a job that was mostly reserved for women at the time . xxmaj her shame is eased when xxmaj zweig assures her that male flight attendants are now very common and that her father could be considered a pioneer . xxmaj marge also brings</td>\n",
       "    </tr>\n",
       "  </tbody>\n",
       "</table>"
      ],
      "text/plain": [
       "<IPython.core.display.HTML object>"
      ]
     },
     "metadata": {},
     "output_type": "display_data"
    }
   ],
   "source": [
    "dbch.show_batch()"
   ]
  },
  {
   "cell_type": "markdown",
   "metadata": {},
   "source": [
    "## Model"
   ]
  },
  {
   "cell_type": "code",
   "execution_count": null,
   "metadata": {},
   "outputs": [],
   "source": [
    "config = awd_lstm_lm_config.copy()\n",
    "config.update({'input_p': 0.6, 'output_p': 0.4, 'weight_p': 0.5, 'embed_p': 0.1, 'hidden_p': 0.2})\n",
    "model = get_language_model(AWD_LSTM, len(dbch.vocab), config=config)"
   ]
  },
  {
   "cell_type": "code",
   "execution_count": null,
   "metadata": {},
   "outputs": [],
   "source": [
    "opt_func = partial(Adam, wd=0.1, eps=1e-7)\n",
    "cb_funcs = [partial(MixedPrecision, clip=0.1), partial(RNNTrainer, alpha=2, beta=1)]"
   ]
  },
  {
   "cell_type": "code",
   "execution_count": null,
   "metadata": {},
   "outputs": [],
   "source": [
    "learn = Learner(dbch, model, loss_func=CrossEntropyLossFlat(), opt_func=opt_func, cb_funcs=cb_funcs, metrics=[accuracy, Perplexity()])"
   ]
  },
  {
   "cell_type": "code",
   "execution_count": null,
   "metadata": {},
   "outputs": [
    {
     "data": {
      "text/html": [
       "<table border=\"1\" class=\"dataframe\">\n",
       "  <thead>\n",
       "    <tr style=\"text-align: left;\">\n",
       "      <th>epoch</th>\n",
       "      <th>train_loss</th>\n",
       "      <th>valid_loss</th>\n",
       "      <th>accuracy</th>\n",
       "      <th>perplexity</th>\n",
       "      <th>time</th>\n",
       "    </tr>\n",
       "  </thead>\n",
       "  <tbody>\n",
       "    <tr>\n",
       "      <td>0</td>\n",
       "      <td>5.616480</td>\n",
       "      <td>5.124578</td>\n",
       "      <td>0.232986</td>\n",
       "      <td>168.103271</td>\n",
       "      <td>02:28</td>\n",
       "    </tr>\n",
       "  </tbody>\n",
       "</table>"
      ],
      "text/plain": [
       "<IPython.core.display.HTML object>"
      ]
     },
     "metadata": {},
     "output_type": "display_data"
    }
   ],
   "source": [
    "learn.fit_one_cycle(1, 5e-3, moms=(0.8,0.7,0.8), div=10)"
   ]
  },
  {
   "cell_type": "markdown",
   "metadata": {},
   "source": [
    "Full training"
   ]
  },
  {
   "cell_type": "code",
   "execution_count": null,
   "metadata": {},
   "outputs": [],
   "source": [
    "#learn.fit_one_cycle(90, 5e-3, moms=(0.8,0.7,0.8), div=10)"
   ]
  },
  {
   "cell_type": "code",
   "execution_count": null,
   "metadata": {},
   "outputs": [],
   "source": []
  }
 ],
 "metadata": {
  "jupytext": {
   "split_at_heading": true
  },
  "kernelspec": {
   "display_name": "Python 3",
   "language": "python",
   "name": "python3"
  }
 },
 "nbformat": 4,
 "nbformat_minor": 2
}
